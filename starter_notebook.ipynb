{
 "cells": [
  {
   "cell_type": "markdown",
   "metadata": {},
   "source": [
    "# Mod 4 Project - Starter Notebook\n",
    "\n",
    "This notebook has been provided to you so that you can make use of the following starter code to help with the trickier parts of preprocessing the Zillow dataset. \n",
    "\n",
    "The notebook contains a rough outline the general order you'll likely want to take in this project. You'll notice that most of the areas are left blank. This is so that it's more obvious exactly when you should make use of the starter code provided for preprocessing. \n",
    "\n",
    "**_NOTE:_** The number of empty cells are not meant to infer how much or how little code should be involved in any given step--we've just provided a few for your convenience. Add, delete, and change things around in this notebook as needed!\n",
    "\n",
    "# Some Notes Before Starting\n",
    "\n",
    "This project will be one of the more challenging projects you complete in this program. This is because working with Time Series data is a bit different than working with regular datasets. In order to make this a bit less frustrating and help you understand what you need to do (and when you need to do it), we'll quickly review the dataset formats that you'll encounter in this project. \n",
    "\n",
    "## Wide Format vs Long Format\n",
    "\n",
    "If you take a look at the format of the data in `zillow_data.csv`, you'll notice that the actual Time Series values are stored as separate columns. Here's a sample: \n",
    "\n",
    "<img src='https://raw.githubusercontent.com/learn-co-students/dsc-mod-4-project-seattle-ds-102819/master/images/df_head.png'>\n",
    "\n",
    "You'll notice that the first seven columns look like any other dataset you're used to working with. However, column 8 refers to the median housing sales values for April 1996, column 9 for May 1996, and so on. This This is called **_Wide Format_**, and it makes the dataframe intuitive and easy to read. However, there are problems with this format when it comes to actually learning from the data, because the data only makes sense if you know the name of the column that the data can be found it. Since column names are metadata, our algorithms will miss out on what dates each value is for. This means that before we pass this data to our ARIMA model, we'll need to reshape our dataset to **_Long Format_**. Reshaped into long format, the dataframe above would now look like:\n",
    "\n",
    "<img src='https://raw.githubusercontent.com/learn-co-students/dsc-mod-4-project-seattle-ds-102819/master/images/melted1.png'>\n",
    "\n",
    "There are now many more rows in this dataset--one for each unique time and zipcode combination in the data! Once our dataset is in this format, we'll be able to train an ARIMA model on it. The method used to convert from Wide to Long is `pd.melt()`, and it is common to refer to our dataset as 'melted' after the transition to denote that it is in long format. \n",
    "\n",
    "# Helper Functions Provided\n",
    "\n",
    "Melting a dataset can be tricky if you've never done it before, so you'll see that we have provided a sample function, `melt_data()`, to help you with this step below. Also provided is:\n",
    "\n",
    "* `get_datetimes()`, a function to deal with converting the column values for datetimes as a pandas series of datetime objects\n",
    "* Some good parameters for matplotlib to help make your visualizations more readable. \n",
    "\n",
    "Good luck!\n",
    "\n",
    "\n",
    "# Step 1: Load the Data/Filtering for Chosen Zipcodes"
   ]
  },
  {
   "cell_type": "code",
   "execution_count": 1,
   "metadata": {},
   "outputs": [],
   "source": [
    "import pandas as pd \n",
    "from matplotlib import pyplot\n",
    "import matplotlib  \n",
    "import numpy as np\n",
    "from pandas.plotting import autocorrelation_plot\n",
    "from statsmodels.tsa.arima_model import ARIMA\n",
    "from pandas import DataFrame"
   ]
  },
  {
   "cell_type": "code",
   "execution_count": 2,
   "metadata": {},
   "outputs": [],
   "source": [
    "df = pd.read_csv('zillow_data.csv')"
   ]
  },
  {
   "cell_type": "code",
   "execution_count": 3,
   "metadata": {},
   "outputs": [],
   "source": [
    "df.drop(columns= 'RegionID',inplace=True)\n",
    "df.drop(columns= 'SizeRank',inplace=True)"
   ]
  },
  {
   "cell_type": "markdown",
   "metadata": {},
   "source": [
    "# Step 2: Data Preprocessing"
   ]
  },
  {
   "cell_type": "code",
   "execution_count": 4,
   "metadata": {},
   "outputs": [],
   "source": [
    "def get_datetimes(df):\n",
    "    return pd.to_datetime(df.columns.values[7:], format='%Y-%m')"
   ]
  },
  {
   "cell_type": "code",
   "execution_count": 5,
   "metadata": {},
   "outputs": [
    {
     "data": {
      "text/plain": [
       "DatetimeIndex(['1996-06-01', '1996-07-01', '1996-08-01', '1996-09-01',\n",
       "               '1996-10-01', '1996-11-01', '1996-12-01', '1997-01-01',\n",
       "               '1997-02-01', '1997-03-01',\n",
       "               ...\n",
       "               '2017-07-01', '2017-08-01', '2017-09-01', '2017-10-01',\n",
       "               '2017-11-01', '2017-12-01', '2018-01-01', '2018-02-01',\n",
       "               '2018-03-01', '2018-04-01'],\n",
       "              dtype='datetime64[ns]', length=263, freq=None)"
      ]
     },
     "execution_count": 5,
     "metadata": {},
     "output_type": "execute_result"
    }
   ],
   "source": [
    "get_datetimes(df)"
   ]
  },
  {
   "cell_type": "code",
   "execution_count": 6,
   "metadata": {
    "scrolled": false
   },
   "outputs": [],
   "source": [
    "cities = ['Austin', 'Raleigh','Atlanta','Phoenix','Miami','Huntsville','Baltimore']"
   ]
  },
  {
   "cell_type": "code",
   "execution_count": 7,
   "metadata": {},
   "outputs": [],
   "source": [
    "selected = df[df['City'].isin(cities)]"
   ]
  },
  {
   "cell_type": "code",
   "execution_count": 8,
   "metadata": {},
   "outputs": [
    {
     "data": {
      "text/html": [
       "<div>\n",
       "<style scoped>\n",
       "    .dataframe tbody tr th:only-of-type {\n",
       "        vertical-align: middle;\n",
       "    }\n",
       "\n",
       "    .dataframe tbody tr th {\n",
       "        vertical-align: top;\n",
       "    }\n",
       "\n",
       "    .dataframe thead th {\n",
       "        text-align: right;\n",
       "    }\n",
       "</style>\n",
       "<table border=\"1\" class=\"dataframe\">\n",
       "  <thead>\n",
       "    <tr style=\"text-align: right;\">\n",
       "      <th></th>\n",
       "      <th>RegionName</th>\n",
       "      <th>City</th>\n",
       "      <th>State</th>\n",
       "      <th>Metro</th>\n",
       "      <th>CountyName</th>\n",
       "      <th>1996-04</th>\n",
       "      <th>1996-05</th>\n",
       "      <th>1996-06</th>\n",
       "      <th>1996-07</th>\n",
       "      <th>1996-08</th>\n",
       "      <th>...</th>\n",
       "      <th>2017-07</th>\n",
       "      <th>2017-08</th>\n",
       "      <th>2017-09</th>\n",
       "      <th>2017-10</th>\n",
       "      <th>2017-11</th>\n",
       "      <th>2017-12</th>\n",
       "      <th>2018-01</th>\n",
       "      <th>2018-02</th>\n",
       "      <th>2018-03</th>\n",
       "      <th>2018-04</th>\n",
       "    </tr>\n",
       "  </thead>\n",
       "  <tbody>\n",
       "    <tr>\n",
       "      <td>56</td>\n",
       "      <td>85032</td>\n",
       "      <td>Phoenix</td>\n",
       "      <td>AZ</td>\n",
       "      <td>Phoenix</td>\n",
       "      <td>Maricopa</td>\n",
       "      <td>95400.0</td>\n",
       "      <td>95800.0</td>\n",
       "      <td>96200.0</td>\n",
       "      <td>96700.0</td>\n",
       "      <td>97200.0</td>\n",
       "      <td>...</td>\n",
       "      <td>255000</td>\n",
       "      <td>256300</td>\n",
       "      <td>257800</td>\n",
       "      <td>259500</td>\n",
       "      <td>260700</td>\n",
       "      <td>261900</td>\n",
       "      <td>263100</td>\n",
       "      <td>264100</td>\n",
       "      <td>265400</td>\n",
       "      <td>266400</td>\n",
       "    </tr>\n",
       "    <tr>\n",
       "      <td>66</td>\n",
       "      <td>78704</td>\n",
       "      <td>Austin</td>\n",
       "      <td>TX</td>\n",
       "      <td>Austin</td>\n",
       "      <td>Travis</td>\n",
       "      <td>221300.0</td>\n",
       "      <td>221100.0</td>\n",
       "      <td>221000.0</td>\n",
       "      <td>221000.0</td>\n",
       "      <td>221300.0</td>\n",
       "      <td>...</td>\n",
       "      <td>530100</td>\n",
       "      <td>532400</td>\n",
       "      <td>534200</td>\n",
       "      <td>536200</td>\n",
       "      <td>538200</td>\n",
       "      <td>539800</td>\n",
       "      <td>540200</td>\n",
       "      <td>542300</td>\n",
       "      <td>547100</td>\n",
       "      <td>550900</td>\n",
       "    </tr>\n",
       "    <tr>\n",
       "      <td>98</td>\n",
       "      <td>78745</td>\n",
       "      <td>Austin</td>\n",
       "      <td>TX</td>\n",
       "      <td>Austin</td>\n",
       "      <td>Travis</td>\n",
       "      <td>135000.0</td>\n",
       "      <td>134200.0</td>\n",
       "      <td>133800.0</td>\n",
       "      <td>133800.0</td>\n",
       "      <td>134000.0</td>\n",
       "      <td>...</td>\n",
       "      <td>286300</td>\n",
       "      <td>286900</td>\n",
       "      <td>287500</td>\n",
       "      <td>288700</td>\n",
       "      <td>289800</td>\n",
       "      <td>290500</td>\n",
       "      <td>291300</td>\n",
       "      <td>292600</td>\n",
       "      <td>294000</td>\n",
       "      <td>294700</td>\n",
       "    </tr>\n",
       "    <tr>\n",
       "      <td>172</td>\n",
       "      <td>27610</td>\n",
       "      <td>Raleigh</td>\n",
       "      <td>NC</td>\n",
       "      <td>Raleigh</td>\n",
       "      <td>Wake</td>\n",
       "      <td>113000.0</td>\n",
       "      <td>111700.0</td>\n",
       "      <td>110400.0</td>\n",
       "      <td>109400.0</td>\n",
       "      <td>108700.0</td>\n",
       "      <td>...</td>\n",
       "      <td>156500</td>\n",
       "      <td>158000</td>\n",
       "      <td>159500</td>\n",
       "      <td>161000</td>\n",
       "      <td>162200</td>\n",
       "      <td>163200</td>\n",
       "      <td>164200</td>\n",
       "      <td>165600</td>\n",
       "      <td>167500</td>\n",
       "      <td>168800</td>\n",
       "    </tr>\n",
       "    <tr>\n",
       "      <td>227</td>\n",
       "      <td>30331</td>\n",
       "      <td>Atlanta</td>\n",
       "      <td>GA</td>\n",
       "      <td>Atlanta</td>\n",
       "      <td>Fulton</td>\n",
       "      <td>97100.0</td>\n",
       "      <td>97700.0</td>\n",
       "      <td>98400.0</td>\n",
       "      <td>99100.0</td>\n",
       "      <td>100000.0</td>\n",
       "      <td>...</td>\n",
       "      <td>130300</td>\n",
       "      <td>131300</td>\n",
       "      <td>132700</td>\n",
       "      <td>134000</td>\n",
       "      <td>135100</td>\n",
       "      <td>137000</td>\n",
       "      <td>139400</td>\n",
       "      <td>140800</td>\n",
       "      <td>141500</td>\n",
       "      <td>141600</td>\n",
       "    </tr>\n",
       "    <tr>\n",
       "      <td>...</td>\n",
       "      <td>...</td>\n",
       "      <td>...</td>\n",
       "      <td>...</td>\n",
       "      <td>...</td>\n",
       "      <td>...</td>\n",
       "      <td>...</td>\n",
       "      <td>...</td>\n",
       "      <td>...</td>\n",
       "      <td>...</td>\n",
       "      <td>...</td>\n",
       "      <td>...</td>\n",
       "      <td>...</td>\n",
       "      <td>...</td>\n",
       "      <td>...</td>\n",
       "      <td>...</td>\n",
       "      <td>...</td>\n",
       "      <td>...</td>\n",
       "      <td>...</td>\n",
       "      <td>...</td>\n",
       "      <td>...</td>\n",
       "      <td>...</td>\n",
       "    </tr>\n",
       "    <tr>\n",
       "      <td>10214</td>\n",
       "      <td>30363</td>\n",
       "      <td>Atlanta</td>\n",
       "      <td>GA</td>\n",
       "      <td>Atlanta</td>\n",
       "      <td>Fulton</td>\n",
       "      <td>131400.0</td>\n",
       "      <td>131700.0</td>\n",
       "      <td>132000.0</td>\n",
       "      <td>132300.0</td>\n",
       "      <td>132800.0</td>\n",
       "      <td>...</td>\n",
       "      <td>350600</td>\n",
       "      <td>350200</td>\n",
       "      <td>349700</td>\n",
       "      <td>347900</td>\n",
       "      <td>345100</td>\n",
       "      <td>343000</td>\n",
       "      <td>342100</td>\n",
       "      <td>341200</td>\n",
       "      <td>340900</td>\n",
       "      <td>340300</td>\n",
       "    </tr>\n",
       "    <tr>\n",
       "      <td>11912</td>\n",
       "      <td>43324</td>\n",
       "      <td>Huntsville</td>\n",
       "      <td>OH</td>\n",
       "      <td>Bellefontaine</td>\n",
       "      <td>Logan</td>\n",
       "      <td>91200.0</td>\n",
       "      <td>91900.0</td>\n",
       "      <td>92600.0</td>\n",
       "      <td>93400.0</td>\n",
       "      <td>94100.0</td>\n",
       "      <td>...</td>\n",
       "      <td>189300</td>\n",
       "      <td>190600</td>\n",
       "      <td>192500</td>\n",
       "      <td>193700</td>\n",
       "      <td>194200</td>\n",
       "      <td>195500</td>\n",
       "      <td>196800</td>\n",
       "      <td>198200</td>\n",
       "      <td>200900</td>\n",
       "      <td>203800</td>\n",
       "    </tr>\n",
       "    <tr>\n",
       "      <td>12887</td>\n",
       "      <td>65259</td>\n",
       "      <td>Huntsville</td>\n",
       "      <td>MO</td>\n",
       "      <td>Moberly</td>\n",
       "      <td>Randolph</td>\n",
       "      <td>NaN</td>\n",
       "      <td>NaN</td>\n",
       "      <td>NaN</td>\n",
       "      <td>NaN</td>\n",
       "      <td>NaN</td>\n",
       "      <td>...</td>\n",
       "      <td>110600</td>\n",
       "      <td>112500</td>\n",
       "      <td>113200</td>\n",
       "      <td>111000</td>\n",
       "      <td>106900</td>\n",
       "      <td>104100</td>\n",
       "      <td>102800</td>\n",
       "      <td>102400</td>\n",
       "      <td>104100</td>\n",
       "      <td>106800</td>\n",
       "    </tr>\n",
       "    <tr>\n",
       "      <td>13256</td>\n",
       "      <td>61723</td>\n",
       "      <td>Atlanta</td>\n",
       "      <td>IL</td>\n",
       "      <td>Lincoln</td>\n",
       "      <td>Logan</td>\n",
       "      <td>41500.0</td>\n",
       "      <td>41600.0</td>\n",
       "      <td>41700.0</td>\n",
       "      <td>41700.0</td>\n",
       "      <td>41800.0</td>\n",
       "      <td>...</td>\n",
       "      <td>84100</td>\n",
       "      <td>84400</td>\n",
       "      <td>85000</td>\n",
       "      <td>85700</td>\n",
       "      <td>86100</td>\n",
       "      <td>86800</td>\n",
       "      <td>87500</td>\n",
       "      <td>87600</td>\n",
       "      <td>86800</td>\n",
       "      <td>85900</td>\n",
       "    </tr>\n",
       "    <tr>\n",
       "      <td>13587</td>\n",
       "      <td>46031</td>\n",
       "      <td>Atlanta</td>\n",
       "      <td>IN</td>\n",
       "      <td>Indianapolis</td>\n",
       "      <td>Hamilton</td>\n",
       "      <td>113700.0</td>\n",
       "      <td>114800.0</td>\n",
       "      <td>115900.0</td>\n",
       "      <td>116900.0</td>\n",
       "      <td>117900.0</td>\n",
       "      <td>...</td>\n",
       "      <td>161300</td>\n",
       "      <td>160900</td>\n",
       "      <td>160200</td>\n",
       "      <td>160600</td>\n",
       "      <td>162300</td>\n",
       "      <td>165100</td>\n",
       "      <td>167700</td>\n",
       "      <td>167300</td>\n",
       "      <td>164800</td>\n",
       "      <td>162200</td>\n",
       "    </tr>\n",
       "  </tbody>\n",
       "</table>\n",
       "<p>144 rows × 270 columns</p>\n",
       "</div>"
      ],
      "text/plain": [
       "       RegionName        City State          Metro CountyName   1996-04  \\\n",
       "56          85032     Phoenix    AZ        Phoenix   Maricopa   95400.0   \n",
       "66          78704      Austin    TX         Austin     Travis  221300.0   \n",
       "98          78745      Austin    TX         Austin     Travis  135000.0   \n",
       "172         27610     Raleigh    NC        Raleigh       Wake  113000.0   \n",
       "227         30331     Atlanta    GA        Atlanta     Fulton   97100.0   \n",
       "...           ...         ...   ...            ...        ...       ...   \n",
       "10214       30363     Atlanta    GA        Atlanta     Fulton  131400.0   \n",
       "11912       43324  Huntsville    OH  Bellefontaine      Logan   91200.0   \n",
       "12887       65259  Huntsville    MO        Moberly   Randolph       NaN   \n",
       "13256       61723     Atlanta    IL        Lincoln      Logan   41500.0   \n",
       "13587       46031     Atlanta    IN   Indianapolis   Hamilton  113700.0   \n",
       "\n",
       "        1996-05   1996-06   1996-07   1996-08  ...  2017-07  2017-08  2017-09  \\\n",
       "56      95800.0   96200.0   96700.0   97200.0  ...   255000   256300   257800   \n",
       "66     221100.0  221000.0  221000.0  221300.0  ...   530100   532400   534200   \n",
       "98     134200.0  133800.0  133800.0  134000.0  ...   286300   286900   287500   \n",
       "172    111700.0  110400.0  109400.0  108700.0  ...   156500   158000   159500   \n",
       "227     97700.0   98400.0   99100.0  100000.0  ...   130300   131300   132700   \n",
       "...         ...       ...       ...       ...  ...      ...      ...      ...   \n",
       "10214  131700.0  132000.0  132300.0  132800.0  ...   350600   350200   349700   \n",
       "11912   91900.0   92600.0   93400.0   94100.0  ...   189300   190600   192500   \n",
       "12887       NaN       NaN       NaN       NaN  ...   110600   112500   113200   \n",
       "13256   41600.0   41700.0   41700.0   41800.0  ...    84100    84400    85000   \n",
       "13587  114800.0  115900.0  116900.0  117900.0  ...   161300   160900   160200   \n",
       "\n",
       "       2017-10  2017-11  2017-12  2018-01  2018-02  2018-03  2018-04  \n",
       "56      259500   260700   261900   263100   264100   265400   266400  \n",
       "66      536200   538200   539800   540200   542300   547100   550900  \n",
       "98      288700   289800   290500   291300   292600   294000   294700  \n",
       "172     161000   162200   163200   164200   165600   167500   168800  \n",
       "227     134000   135100   137000   139400   140800   141500   141600  \n",
       "...        ...      ...      ...      ...      ...      ...      ...  \n",
       "10214   347900   345100   343000   342100   341200   340900   340300  \n",
       "11912   193700   194200   195500   196800   198200   200900   203800  \n",
       "12887   111000   106900   104100   102800   102400   104100   106800  \n",
       "13256    85700    86100    86800    87500    87600    86800    85900  \n",
       "13587   160600   162300   165100   167700   167300   164800   162200  \n",
       "\n",
       "[144 rows x 270 columns]"
      ]
     },
     "execution_count": 8,
     "metadata": {},
     "output_type": "execute_result"
    }
   ],
   "source": [
    "selected"
   ]
  },
  {
   "cell_type": "code",
   "execution_count": null,
   "metadata": {},
   "outputs": [],
   "source": []
  },
  {
   "cell_type": "code",
   "execution_count": 9,
   "metadata": {},
   "outputs": [],
   "source": [
    "dfBA = df[df['Metro'] == 'Baltimore']\n",
    "dfA = df[df['Metro'] =='Atlanta']\n",
    "dfH = df[df['Metro'] =='Houston']\n",
    "dfM = df[df['Metro'] =='Miami-Fort Lauderdale']\n",
    "dfPH = df[df['Metro'] =='Philadelphia']\n",
    "dfPX = df[df['Metro'] =='Phoenix']\n",
    "dfR = df[df['Metro'] == 'Raleigh']\n",
    "dfHV = df[df['Metro'] == 'Huntsville']\n",
    "# E = [df1,df2,df3,df4,df5,df6] raleigh huntsville"
   ]
  },
  {
   "cell_type": "code",
   "execution_count": 10,
   "metadata": {},
   "outputs": [
    {
     "data": {
      "text/plain": [
       "(122, 270)"
      ]
     },
     "execution_count": 10,
     "metadata": {},
     "output_type": "execute_result"
    }
   ],
   "source": [
    "dfBA.shape"
   ]
  },
  {
   "cell_type": "code",
   "execution_count": 11,
   "metadata": {
    "scrolled": true
   },
   "outputs": [
    {
     "data": {
      "text/plain": [
       "(152, 270)"
      ]
     },
     "execution_count": 11,
     "metadata": {},
     "output_type": "execute_result"
    }
   ],
   "source": [
    "dfA.shape"
   ]
  },
  {
   "cell_type": "code",
   "execution_count": 12,
   "metadata": {},
   "outputs": [
    {
     "data": {
      "text/plain": [
       "(187, 270)"
      ]
     },
     "execution_count": 12,
     "metadata": {},
     "output_type": "execute_result"
    }
   ],
   "source": [
    "dfH.shape"
   ]
  },
  {
   "cell_type": "code",
   "execution_count": 13,
   "metadata": {},
   "outputs": [
    {
     "data": {
      "text/plain": [
       "(162, 270)"
      ]
     },
     "execution_count": 13,
     "metadata": {},
     "output_type": "execute_result"
    }
   ],
   "source": [
    "dfM.shape"
   ]
  },
  {
   "cell_type": "code",
   "execution_count": 14,
   "metadata": {},
   "outputs": [
    {
     "data": {
      "text/plain": [
       "(281, 270)"
      ]
     },
     "execution_count": 14,
     "metadata": {},
     "output_type": "execute_result"
    }
   ],
   "source": [
    "dfPH.shape"
   ]
  },
  {
   "cell_type": "code",
   "execution_count": 15,
   "metadata": {},
   "outputs": [
    {
     "data": {
      "text/plain": [
       "(126, 270)"
      ]
     },
     "execution_count": 15,
     "metadata": {},
     "output_type": "execute_result"
    }
   ],
   "source": [
    "dfPX.shape"
   ]
  },
  {
   "cell_type": "code",
   "execution_count": 16,
   "metadata": {
    "scrolled": true
   },
   "outputs": [
    {
     "data": {
      "text/plain": [
       "(43, 270)"
      ]
     },
     "execution_count": 16,
     "metadata": {},
     "output_type": "execute_result"
    }
   ],
   "source": [
    "dfR.shape"
   ]
  },
  {
   "cell_type": "code",
   "execution_count": 17,
   "metadata": {},
   "outputs": [
    {
     "data": {
      "text/plain": [
       "(24, 270)"
      ]
     },
     "execution_count": 17,
     "metadata": {},
     "output_type": "execute_result"
    }
   ],
   "source": [
    "dfHV.shape"
   ]
  },
  {
   "cell_type": "code",
   "execution_count": 18,
   "metadata": {},
   "outputs": [
    {
     "name": "stdout",
     "output_type": "stream",
     "text": [
      "[] 1\n",
      "[] 5\n",
      "[] 6\n",
      "[] 7\n"
     ]
    }
   ],
   "source": [
    "# Need to see which columns have null values\n",
    "print(dfM.columns[dfM.isna().any()].tolist(),'1')\n",
    "ATLA = dfA.columns[dfA.isna().any()].tolist()\n",
    "PHON = dfPX.columns[dfPX.isna().any()].tolist()\n",
    "BALT = dfBA.columns[dfBA.isna().any()].tolist()\n",
    "print (dfPH.columns[dfH.isna().any()].tolist(),'5')\n",
    "print(dfH.columns[dfH.isna().any()].tolist(),'6')\n",
    "print(dfR.columns[dfR.isna().any()].tolist(),'7')\n",
    "HUNT = dfHV.columns[dfHV.isna().any()].tolist()"
   ]
  },
  {
   "cell_type": "code",
   "execution_count": 19,
   "metadata": {},
   "outputs": [],
   "source": [
    "Atlanta = dfA.fillna(dfA.mean())\n",
    "Phoenix = dfPX.fillna(dfPX.mean())\n",
    "Baltimore = dfBA.fillna(dfBA.mean())\n",
    "Huntsville = dfHV.fillna(dfHV.mean())\n",
    "Houston = dfH\n",
    "Miami = dfM\n",
    "Raleigh = dfR\n",
    "Philadelphia = dfPH"
   ]
  },
  {
   "cell_type": "code",
   "execution_count": 20,
   "metadata": {},
   "outputs": [],
   "source": [
    "# EmergingCitys = pd.concat(E,axis=0)"
   ]
  },
  {
   "cell_type": "code",
   "execution_count": null,
   "metadata": {},
   "outputs": [],
   "source": []
  },
  {
   "cell_type": "code",
   "execution_count": 21,
   "metadata": {
    "scrolled": true
   },
   "outputs": [],
   "source": [
    "# EmergingCitys"
   ]
  },
  {
   "cell_type": "code",
   "execution_count": 22,
   "metadata": {},
   "outputs": [],
   "source": [
    "# dfBA.dropna(inplace=True)\n",
    "# dfA.dropna(inplace=True)\n",
    "# dfH.dropna(inplace=True)\n",
    "# dfM.dropna(inplace=True)\n",
    "# dfPH.dropna(inplace=True)\n",
    "# dfPX.dropna(inplace=True)\n",
    "# dfR.dropna(inplace=True)\n",
    "# dfHV.dropna(inplace=True)"
   ]
  },
  {
   "cell_type": "code",
   "execution_count": 23,
   "metadata": {},
   "outputs": [],
   "source": [
    "# EmergingCitys.drop(columns= 'RegionID',inplace=True)\n",
    "# EmergingCitys.drop(columns= 'SizeRank',inplace=True)"
   ]
  },
  {
   "cell_type": "code",
   "execution_count": 24,
   "metadata": {
    "scrolled": true
   },
   "outputs": [
    {
     "ename": "NameError",
     "evalue": "name 'EmergingCitys' is not defined",
     "output_type": "error",
     "traceback": [
      "\u001b[0;31m---------------------------------------------------------------------------\u001b[0m",
      "\u001b[0;31mNameError\u001b[0m                                 Traceback (most recent call last)",
      "\u001b[0;32m<ipython-input-24-d5cd06ad333c>\u001b[0m in \u001b[0;36m<module>\u001b[0;34m\u001b[0m\n\u001b[0;32m----> 1\u001b[0;31m \u001b[0mEmergingCitys\u001b[0m\u001b[0;34m\u001b[0m\u001b[0;34m\u001b[0m\u001b[0m\n\u001b[0m",
      "\u001b[0;31mNameError\u001b[0m: name 'EmergingCitys' is not defined"
     ]
    }
   ],
   "source": [
    "EmergingCitys"
   ]
  },
  {
   "cell_type": "markdown",
   "metadata": {},
   "source": [
    "# Step 3: EDA and Visualization"
   ]
  },
  {
   "cell_type": "code",
   "execution_count": null,
   "metadata": {},
   "outputs": [],
   "source": [
    "font = {'family' : 'normal',\n",
    "        'weight' : 'bold',\n",
    "        'size'   : 22}\n",
    "\n",
    "matplotlib.rc('font', **font)\n",
    "\n",
    "# NOTE: if you visualizations are too cluttered to read, try calling 'plt.gcf().autofmt_xdate()'!"
   ]
  },
  {
   "cell_type": "code",
   "execution_count": null,
   "metadata": {},
   "outputs": [],
   "source": []
  },
  {
   "cell_type": "code",
   "execution_count": null,
   "metadata": {},
   "outputs": [],
   "source": []
  },
  {
   "cell_type": "code",
   "execution_count": null,
   "metadata": {},
   "outputs": [],
   "source": []
  },
  {
   "cell_type": "markdown",
   "metadata": {},
   "source": [
    "# Step 4: Reshape from Wide to Long Format"
   ]
  },
  {
   "cell_type": "code",
   "execution_count": 26,
   "metadata": {},
   "outputs": [],
   "source": [
    "def melt_data(df):\n",
    "    melted = pd.melt(df, id_vars=['RegionName', 'City', 'State', 'Metro', 'CountyName'], var_name='time')\n",
    "    melted['time'] = pd.to_datetime(melted['time'], infer_datetime_format=True)\n",
    "    melted = melted.dropna(subset=['value'])\n",
    "    return melted.groupby('time').aggregate({'value':'mean'})"
   ]
  },
  {
   "cell_type": "code",
   "execution_count": 27,
   "metadata": {},
   "outputs": [],
   "source": [
    "MAtlanta= melt_data(Atlanta)  \n",
    "MPhoenix= melt_data(Phoenix)\n",
    "MBaltimore= melt_data(Baltimore)\n",
    "MHuntsville= melt_data(Huntsville)\n",
    "MHouston= melt_data(Houston) \n",
    "MMiami= melt_data(Miami)\n",
    "MRaleigh= melt_data(Raleigh) \n",
    "MPhiladelphia= melt_data(Philadelphia)"
   ]
  },
  {
   "cell_type": "code",
   "execution_count": 28,
   "metadata": {},
   "outputs": [
    {
     "data": {
      "image/png": "[encoded data removed]",
      "text/plain": [
       "<Figure size 432x288 with 1 Axes>"
      ]
     },
     "metadata": {
      "needs_background": "light"
     },
     "output_type": "display_data"
    }
   ],
   "source": [
    "MAtlanta.plot()\n",
    "pyplot.show()"
   ]
  },
  {
   "cell_type": "code",
   "execution_count": 29,
   "metadata": {},
   "outputs": [
    {
     "data": {
      "image/png": "[encoded data removed]",
      "text/plain": [
       "<Figure size 432x288 with 1 Axes>"
      ]
     },
     "metadata": {
      "needs_background": "light"
     },
     "output_type": "display_data"
    }
   ],
   "source": [
    "autocorrelation_plot(MAtlanta)\n",
    "pyplot.show()"
   ]
  },
  {
   "cell_type": "code",
   "execution_count": 30,
   "metadata": {},
   "outputs": [
    {
     "data": {
      "image/png": "[encoded data removed]",
      "text/plain": [
       "<Figure size 432x288 with 1 Axes>"
      ]
     },
     "metadata": {
      "needs_background": "light"
     },
     "output_type": "display_data"
    }
   ],
   "source": [
    "MPhoenix.plot()\n",
    "pyplot.show()"
   ]
  },
  {
   "cell_type": "code",
   "execution_count": 31,
   "metadata": {},
   "outputs": [
    {
     "data": {
      "image/png": "[encoded data removed]",
      "text/plain": [
       "<Figure size 432x288 with 1 Axes>"
      ]
     },
     "metadata": {
      "needs_background": "light"
     },
     "output_type": "display_data"
    }
   ],
   "source": [
    "autocorrelation_plot(MPhoenix)\n",
    "pyplot.show()"
   ]
  },
  {
   "cell_type": "code",
   "execution_count": 32,
   "metadata": {},
   "outputs": [
    {
     "data": {
      "image/png": "[encoded data removed]",
      "text/plain": [
       "<Figure size 432x288 with 1 Axes>"
      ]
     },
     "metadata": {
      "needs_background": "light"
     },
     "output_type": "display_data"
    }
   ],
   "source": [
    "MBaltimore.plot()\n",
    "pyplot.show()"
   ]
  },
  {
   "cell_type": "code",
   "execution_count": 33,
   "metadata": {},
   "outputs": [
    {
     "data": {
      "image/png": "[encoded data removed]",
      "text/plain": [
       "<Figure size 432x288 with 1 Axes>"
      ]
     },
     "metadata": {
      "needs_background": "light"
     },
     "output_type": "display_data"
    }
   ],
   "source": [
    "autocorrelation_plot(MBaltimore)\n",
    "pyplot.show()"
   ]
  },
  {
   "cell_type": "code",
   "execution_count": 34,
   "metadata": {},
   "outputs": [
    {
     "data": {
      "image/png": "[encoded data removed]",
      "text/plain": [
       "<Figure size 432x288 with 1 Axes>"
      ]
     },
     "metadata": {
      "needs_background": "light"
     },
     "output_type": "display_data"
    }
   ],
   "source": [
    "MHuntsville.plot()\n",
    "pyplot.show()"
   ]
  },
  {
   "cell_type": "code",
   "execution_count": 35,
   "metadata": {},
   "outputs": [
    {
     "data": {
      "image/png": "[encoded data removed]",
      "text/plain": [
       "<Figure size 432x288 with 1 Axes>"
      ]
     },
     "metadata": {
      "needs_background": "light"
     },
     "output_type": "display_data"
    }
   ],
   "source": [
    "autocorrelation_plot(MHuntsville)\n",
    "pyplot.show()"
   ]
  },
  {
   "cell_type": "code",
   "execution_count": 36,
   "metadata": {},
   "outputs": [
    {
     "data": {
      "image/png": "[encoded data removed]",
      "text/plain": [
       "<Figure size 432x288 with 1 Axes>"
      ]
     },
     "metadata": {
      "needs_background": "light"
     },
     "output_type": "display_data"
    }
   ],
   "source": [
    "MHouston.plot()\n",
    "pyplot.show()"
   ]
  },
  {
   "cell_type": "code",
   "execution_count": 37,
   "metadata": {},
   "outputs": [
    {
     "data": {
      "image/png": "[encoded data removed]",
      "text/plain": [
       "<Figure size 432x288 with 1 Axes>"
      ]
     },
     "metadata": {
      "needs_background": "light"
     },
     "output_type": "display_data"
    }
   ],
   "source": [
    "autocorrelation_plot(MHouston)\n",
    "pyplot.show()"
   ]
  },
  {
   "cell_type": "code",
   "execution_count": 38,
   "metadata": {},
   "outputs": [
    {
     "data": {
      "image/png": "[encoded data removed]",
      "text/plain": [
       "<Figure size 432x288 with 1 Axes>"
      ]
     },
     "metadata": {
      "needs_background": "light"
     },
     "output_type": "display_data"
    }
   ],
   "source": [
    "MMiami.plot()\n",
    "pyplot.show()"
   ]
  },
  {
   "cell_type": "code",
   "execution_count": 39,
   "metadata": {},
   "outputs": [
    {
     "data": {
      "image/png": "[encoded data removed]",
      "text/plain": [
       "<Figure size 432x288 with 1 Axes>"
      ]
     },
     "metadata": {
      "needs_background": "light"
     },
     "output_type": "display_data"
    }
   ],
   "source": [
    "autocorrelation_plot(MMiami)\n",
    "pyplot.show()"
   ]
  },
  {
   "cell_type": "code",
   "execution_count": 40,
   "metadata": {},
   "outputs": [
    {
     "data": {
      "image/png": "[encoded data removed]",
      "text/plain": [
       "<Figure size 432x288 with 1 Axes>"
      ]
     },
     "metadata": {
      "needs_background": "light"
     },
     "output_type": "display_data"
    }
   ],
   "source": [
    "MRaleigh.plot()\n",
    "pyplot.show()"
   ]
  },
  {
   "cell_type": "code",
   "execution_count": 41,
   "metadata": {},
   "outputs": [
    {
     "data": {
      "image/png": "[encoded data removed]",
      "text/plain": [
       "<Figure size 432x288 with 1 Axes>"
      ]
     },
     "metadata": {
      "needs_background": "light"
     },
     "output_type": "display_data"
    }
   ],
   "source": [
    "autocorrelation_plot(MRaleigh)\n",
    "pyplot.show()"
   ]
  },
  {
   "cell_type": "code",
   "execution_count": 42,
   "metadata": {},
   "outputs": [
    {
     "data": {
      "image/png": "[encoded data removed]",
      "text/plain": [
       "<Figure size 432x288 with 1 Axes>"
      ]
     },
     "metadata": {
      "needs_background": "light"
     },
     "output_type": "display_data"
    }
   ],
   "source": [
    "MPhiladelphia.plot()\n",
    "pyplot.show()"
   ]
  },
  {
   "cell_type": "code",
   "execution_count": 43,
   "metadata": {
    "scrolled": false
   },
   "outputs": [
    {
     "data": {
      "image/png": "[encoded data removed]",
      "text/plain": [
       "<Figure size 432x288 with 1 Axes>"
      ]
     },
     "metadata": {
      "needs_background": "light"
     },
     "output_type": "display_data"
    }
   ],
   "source": [
    "autocorrelation_plot(MPhiladelphia)\n",
    "pyplot.show()"
   ]
  },
  {
   "cell_type": "code",
   "execution_count": 44,
   "metadata": {
    "scrolled": true
   },
   "outputs": [
    {
     "data": {
      "text/plain": [
       "time\n",
       "1996-04-01    136675.444840\n",
       "1996-05-01    136610.320285\n",
       "1996-06-01    136524.911032\n",
       "1996-07-01    136418.505338\n",
       "1996-08-01    136317.081851\n",
       "                  ...      \n",
       "2017-12-01    277848.754448\n",
       "2018-01-01    279333.807829\n",
       "2018-02-01    280505.338078\n",
       "2018-03-01    281412.455516\n",
       "2018-04-01    281849.466192\n",
       "Name: value, Length: 265, dtype: float64"
      ]
     },
     "execution_count": 44,
     "metadata": {},
     "output_type": "execute_result"
    }
   ],
   "source": [
    "MPh= MPhiladelphia['value']\n",
    "MPh"
   ]
  },
  {
   "cell_type": "markdown",
   "metadata": {},
   "source": [
    "From the Visuals above I see that the data is non stationary. Using the Dickie fuller test I will now test to see if my intuition is correct."
   ]
  },
  {
   "cell_type": "code",
   "execution_count": 45,
   "metadata": {},
   "outputs": [
    {
     "name": "stdout",
     "output_type": "stream",
     "text": [
      "ADF Statistic: -2.324435\n",
      "p-value: 0.164208\n",
      "Critical Values:\n",
      "\t1%: -3.457\n",
      "\t5%: -2.873\n",
      "\t10%: -2.573\n"
     ]
    }
   ],
   "source": [
    "from statsmodels.tsa.stattools import adfuller\n",
    "result = adfuller(MPh)\n",
    "print('ADF Statistic: %f' % result[0])\n",
    "print('p-value: %f' % result[1])\n",
    "print('Critical Values:')\n",
    "for key, value in result[4].items():\n",
    "\tprint('\\t%s: %.3f' % (key, value))\n"
   ]
  },
  {
   "cell_type": "code",
   "execution_count": 46,
   "metadata": {},
   "outputs": [],
   "source": [
    "RaleighSeries = MRaleigh['value']"
   ]
  },
  {
   "cell_type": "code",
   "execution_count": 47,
   "metadata": {},
   "outputs": [],
   "source": [
    "MiamiSeries  = MMiami['value']"
   ]
  },
  {
   "cell_type": "code",
   "execution_count": 48,
   "metadata": {},
   "outputs": [],
   "source": [
    "HoustonSeries = MHouston['value']"
   ]
  },
  {
   "cell_type": "code",
   "execution_count": 49,
   "metadata": {},
   "outputs": [],
   "source": [
    "HuntsvilleSeries= MHuntsville['value']"
   ]
  },
  {
   "cell_type": "code",
   "execution_count": 50,
   "metadata": {},
   "outputs": [],
   "source": [
    "BaltimoreSeries = MBaltimore['value']"
   ]
  },
  {
   "cell_type": "code",
   "execution_count": 51,
   "metadata": {},
   "outputs": [],
   "source": [
    "PhoenixSeries =MPhoenix['value']"
   ]
  },
  {
   "cell_type": "code",
   "execution_count": 52,
   "metadata": {},
   "outputs": [],
   "source": [
    "AtlantaSeries = MAtlanta['value']"
   ]
  },
  {
   "cell_type": "code",
   "execution_count": 53,
   "metadata": {},
   "outputs": [],
   "source": [
    "PhiladelphiaSeries= MPhiladelphia['value']"
   ]
  },
  {
   "cell_type": "markdown",
   "metadata": {},
   "source": [
    "# Step 5: ARIMA Modeling"
   ]
  },
  {
   "cell_type": "code",
   "execution_count": null,
   "metadata": {},
   "outputs": [],
   "source": []
  },
  {
   "cell_type": "code",
   "execution_count": 54,
   "metadata": {},
   "outputs": [
    {
     "name": "stdout",
     "output_type": "stream",
     "text": [
      "                             ARIMA Model Results                              \n",
      "==============================================================================\n",
      "Dep. Variable:                D.value   No. Observations:                  264\n",
      "Model:                 ARIMA(1, 1, 0)   Log Likelihood               -1773.370\n",
      "Method:                       css-mle   S.D. of innovations            198.759\n",
      "Date:                Wed, 06 May 2020   AIC                           3552.740\n",
      "Time:                        14:56:42   BIC                           3563.468\n",
      "Sample:                    05-01-1996   HQIC                          3557.051\n",
      "                         - 04-01-2018                                         \n",
      "=================================================================================\n",
      "                    coef    std err          z      P>|z|      [0.025      0.975]\n",
      "---------------------------------------------------------------------------------\n",
      "const           444.7418    565.004      0.787      0.431    -662.646    1552.130\n",
      "ar.L1.D.value     0.9817      0.010     98.128      0.000       0.962       1.001\n",
      "                                    Roots                                    \n",
      "=============================================================================\n",
      "                  Real          Imaginary           Modulus         Frequency\n",
      "-----------------------------------------------------------------------------\n",
      "AR.1            1.0186           +0.0000j            1.0186            0.0000\n",
      "-----------------------------------------------------------------------------\n"
     ]
    },
    {
     "name": "stderr",
     "output_type": "stream",
     "text": [
      "/Users/andrewghan/anaconda3/lib/python3.7/site-packages/statsmodels/tsa/base/tsa_model.py:162: ValueWarning: No frequency information was provided, so inferred frequency MS will be used.\n",
      "  % freq, ValueWarning)\n",
      "/Users/andrewghan/anaconda3/lib/python3.7/site-packages/statsmodels/tsa/base/tsa_model.py:162: ValueWarning: No frequency information was provided, so inferred frequency MS will be used.\n",
      "  % freq, ValueWarning)\n"
     ]
    },
    {
     "data": {
      "image/png": "[encoded data removed]",
      "text/plain": [
       "<Figure size 432x288 with 1 Axes>"
      ]
     },
     "metadata": {
      "needs_background": "light"
     },
     "output_type": "display_data"
    },
    {
     "data": {
      "image/png": "[encoded data removed]",
      "text/plain": [
       "<Figure size 432x288 with 1 Axes>"
      ]
     },
     "metadata": {
      "needs_background": "light"
     },
     "output_type": "display_data"
    },
    {
     "name": "stdout",
     "output_type": "stream",
     "text": [
      "                 0\n",
      "count   264.000000\n",
      "mean      1.896452\n",
      "std     201.504832\n",
      "min   -1088.604137\n",
      "25%    -108.884836\n",
      "50%       7.570373\n",
      "75%     101.785113\n",
      "max     533.636175\n"
     ]
    }
   ],
   "source": [
    "model = ARIMA(PhiladelphiaSeries, order=(1,1,0))\n",
    "model_fit = model.fit(disp=0)\n",
    "print(model_fit.summary())\n",
    "# plot residual errors\n",
    "residuals = DataFrame(model_fit.resid)\n",
    "residuals.plot()\n",
    "pyplot.show()\n",
    "residuals.plot(kind='kde')\n",
    "pyplot.show()\n",
    "print(residuals.describe())"
   ]
  },
  {
   "cell_type": "code",
   "execution_count": 123,
   "metadata": {},
   "outputs": [],
   "source": [
    "\n",
    "yhat = model_fit.forecast(steps=800)\n"
   ]
  },
  {
   "cell_type": "code",
   "execution_count": 124,
   "metadata": {},
   "outputs": [
    {
     "name": "stdout",
     "output_type": "stream",
     "text": [
      "[282286.61840522 282723.90956399 283161.33712476 283598.89859035\n",
      " 284036.59150933 284474.41347511 284912.36212521 285350.43514035\n",
      " 285788.63024374 286226.94520026 286665.37781571 287103.92593608\n",
      " 287542.58744676 287981.36027188 288420.24237355 288859.23175122\n",
      " 289298.32644094 289737.52451473 290176.82407988 290616.22327837\n",
      " 291055.72028615 291495.31331261 291935.0005999  292374.78042233\n",
      " 292814.65108584 293254.61092737 293694.65831429 294134.79164389\n",
      " 294575.00934277 295015.30986636 295455.69169835 295896.1533502\n",
      " 296336.69336061 296777.31029505 297218.00274523 297658.76932867\n",
      " 298099.60868818 298540.51949141 298981.50043042 299422.55022121\n",
      " 299863.66760328 300304.85133922 300746.10021425 301187.41303585\n",
      " 301628.78863333 302070.22585742 302511.7235799  302953.28069321\n",
      " 303394.89611006 303836.56876305 304278.29760435 304720.08160529\n",
      " 305161.91975605 305603.81106529 306045.75455981 306487.74928423\n",
      " 306929.79430068 307371.88868843 307814.03154363 308256.22197896\n",
      " 308698.45912336 309140.74212171 309583.07013454 310025.44233775\n",
      " 310467.85792233 310910.31609409 311352.81607336 311795.35709476\n",
      " 312237.93840692 312680.55927221 313123.21896652 313565.91677899\n",
      " 314008.65201179 314451.42397984 314894.23201061 315337.0754439\n",
      " 315779.95363157 316222.86593736 316665.81173666 317108.79041629\n",
      " 317551.8013743  317994.84401976 318437.91777255 318881.02206317\n",
      " 319324.15633256 319767.3200319  320210.51262238 320653.73357509\n",
      " 321096.9823708  321540.25849976 321983.56146159 322426.89076504\n",
      " 322870.24592786 323313.62647663 323757.03194662 324200.46188156\n",
      " 324643.91583359 325087.39336299 325530.89403815 325974.4174353\n",
      " 326417.96313849 326861.53073934 327305.11983696 327748.7300378\n",
      " 328192.36095552 328636.01221085 329079.68343146 329523.37425183\n",
      " 329967.08431315 330410.81326316 330854.56075607 331298.32645239\n",
      " 331742.11001888 332185.91112838 332629.72945972 333073.56469761\n",
      " 333517.41653254 333961.28466066 334405.16878369 334849.06860879\n",
      " 335292.98384852 335736.91422066 336180.85944818 336624.81925911\n",
      " 337068.79338648 337512.78156819 337956.78354693 338400.79907013\n",
      " 338844.82788981 339288.86976256 339732.92444941 340176.99171575\n",
      " 340621.07133131 341065.16306998 341509.26670984 341953.382033\n",
      " 342397.50882558 342841.64687758 343285.7959829  343729.95593916\n",
      " 344174.12654772 344618.30761356 345062.49894524 345506.70035481\n",
      " 345950.91165777 346395.13267301 346839.36322272 347283.60313234\n",
      " 347727.85223051 348172.11034904 348616.37732276 349060.65298957\n",
      " 349504.93719032 349949.22976877 350393.53057155 350837.8394481\n",
      " 351282.15625061 351726.48083397 352170.81305573 352615.15277606\n",
      " 353059.49985768 353503.85416582 353948.21556818 354392.58393488\n",
      " 354836.95913843 355281.34105367 355725.72955771 356170.12452994\n",
      " 356614.52585194 357058.93340746 357503.34708238 357947.76676467\n",
      " 358392.19234436 358836.62371347 359281.06076602 359725.50339796\n",
      " 360169.95150715 360614.4049933  361058.86375799 361503.32770458\n",
      " 361947.79673819 362392.27076571 362836.74969569 363281.2334384\n",
      " 363725.72190573 364170.21501117 364614.71266982 365059.21479832\n",
      " 365503.72131484 365948.23213905 366392.74719208 366837.26639651\n",
      " 367281.78967634 367726.31695697 368170.84816515 368615.38322897\n",
      " 369059.92207785 369504.4646425  369949.01085489 370393.56064823\n",
      " 370838.11395698 371282.67071676 371727.23086441 372171.7943379\n",
      " 372616.36107634 373060.93101996 373505.50411009 373950.08028911\n",
      " 374394.65950047 374839.24168868 375283.82679921 375728.41477858\n",
      " 376173.00557427 376617.59913471 377062.19540929 377506.79434831\n",
      " 377951.39590302 378396.0000255  378840.60666876 379285.21578665\n",
      " 379729.82733386 380174.44126592 380619.05753917 381063.67611075\n",
      " 381508.29693858 381952.91998135 382397.54519851 382842.17255027\n",
      " 383286.80199753 383731.43350194 384176.06702583 384620.70253224\n",
      " 385065.33998486 385509.97934807 385954.6205869  386399.26366699\n",
      " 386843.90855465 387288.55521679 387733.2036209  388177.85373512\n",
      " 388622.50552812 389067.15896917 389511.81402811 389956.47067531\n",
      " 390401.1288817  390845.78861872 391290.44985837 391735.11257313\n",
      " 392179.77673599 392624.44232044 393069.10930047 393513.77765051\n",
      " 393958.44734549 394403.11836078 394847.79067222 395292.46425607\n",
      " 395737.13908905 396181.81514827 396626.4924113  397071.17085609\n",
      " 397515.85046101 397960.53120482 398405.21306668 398849.8960261\n",
      " 399294.580063   399739.26515765 400183.95129069 400628.63844311\n",
      " 401073.32659624 401518.01573177 401962.70583171 402407.3968784\n",
      " 402852.08885451 403296.78174303 403741.47552725 404186.17019078\n",
      " 404630.86571751 405075.56209164 405520.25929767 405964.95732035\n",
      " 406409.65614475 406854.35575617 407299.05614022 407743.75728275\n",
      " 408188.45916987 408633.16178795 409077.86512361 409522.56916372\n",
      " 409967.27389537 410411.9793059  410856.6853829  411301.39211414\n",
      " 411746.09948767 412190.80749172 412635.51611474 413080.22534541\n",
      " 413524.93517259 413969.64558538 414414.35657305 414859.06812507\n",
      " 415303.78023111 415748.49288103 416193.20606488 416637.91977287\n",
      " 417082.63399541 417527.34872309 417972.06394665 418416.77965702\n",
      " 418861.49584528 419306.21250269 419750.92962065 420195.64719074\n",
      " 420640.36520467 421085.08365433 421529.80253173 421974.52182904\n",
      " 422419.24153858 422863.96165281 423308.6821643  423753.40306579\n",
      " 424198.12435013 424642.84601033 425087.5680395  425532.29043087\n",
      " 425977.01317783 426421.73627387 426866.45971258 427311.1834877\n",
      " 427755.90759308 428200.63202265 428645.35677049 429090.08183078\n",
      " 429534.80719779 429979.5328659  430424.2588296  430868.98508349\n",
      " 431313.71162225 431758.43844066 432203.16553361 432647.89289607\n",
      " 433092.6205231  433537.34840986 433982.0765516  434426.80494364\n",
      " 434871.53358141 435316.26246041 435760.99157622 436205.72092451\n",
      " 436650.45050101 437095.18030156 437539.91032204 437984.64055844\n",
      " 438429.3710068  438874.10166324 439318.83252395 439763.56358519\n",
      " 440208.29484329 440653.02629464 441097.75793571 441542.48976303\n",
      " 441987.22177318 442431.95396282 442876.68632867 443321.41886748\n",
      " 443766.15157611 444210.88445144 444655.61749041 445100.35069004\n",
      " 445545.08404738 445989.81755954 446434.55122369 446879.28503705\n",
      " 447324.01899689 447768.75310052 448213.48734531 448658.22172868\n",
      " 449102.95624809 449547.69090105 449992.42568511 450437.16059788\n",
      " 450881.89563699 451326.63080014 451771.36608506 452216.10148951\n",
      " 452660.83701131 453105.5726483  453550.30839839 453995.04425949\n",
      " 454439.78022958 454884.51630667 455329.25248878 455773.98877401\n",
      " 456218.72516045 456663.46164627 457108.19822964 457552.93490877\n",
      " 457997.67168191 458442.40854734 458887.14550337 459331.88254834\n",
      " 459776.61968063 460221.35689863 460666.09420078 461110.83158553\n",
      " 461555.56905137 462000.30659682 462445.04422043 462889.78192075\n",
      " 463334.51969639 463779.25754596 464223.99546812 464668.73346153\n",
      " 465113.47152489 465558.20965693 466002.94785637 466447.68612199\n",
      " 466892.42445258 467337.16284694 467781.90130391 468226.63982235\n",
      " 468671.37840113 469116.11703913 469560.85573529 470005.59448853\n",
      " 470450.33329781 470895.07216211 471339.81108041 471784.55005172\n",
      " 472229.28907509 472674.02814955 473118.76727416 473563.50644802\n",
      " 474008.24567022 474452.98493987 474897.7242561  475342.46361807\n",
      " 475787.20302493 476231.94247587 476676.68197007 477121.42150675\n",
      " 477566.16108512 478010.90070443 478455.64036392 478900.38006285\n",
      " 479345.11980052 479789.8595762  480234.5993892  480679.33923884\n",
      " 481124.07912445 481568.81904537 482013.55900094 482458.29899055\n",
      " 482903.03901356 483347.77906936 483792.51915736 484237.25927696\n",
      " 484681.99942759 485126.73960867 485571.47981965 486016.22005998\n",
      " 486460.96032913 486905.70062656 487350.44095177 487795.18130423\n",
      " 488239.92168346 488684.66208895 489129.40252024 489574.14297685\n",
      " 490018.88345831 490463.62396417 490908.36449399 491353.10504732\n",
      " 491797.84562373 492242.58622281 492687.32684413 493132.0674873\n",
      " 493576.8081519  494021.54883755 494466.28954386 494911.03027045\n",
      " 495355.77101696 495800.51178302 496245.25256826 496689.99337235\n",
      " 497134.73419493 497579.47503566 498024.21589421 498468.95677027\n",
      " 498913.69766349 499358.43857358 499803.17950023 500247.92044312\n",
      " 500692.66140197 501137.40237647 501582.14336635 502026.88437132\n",
      " 502471.62539111 502916.36642544 503361.10747406 503805.84853668\n",
      " 504250.58961307 504695.33070297 505140.07180613 505584.8129223\n",
      " 506029.55405126 506474.29519276 506919.03634658 507363.77751249\n",
      " 507808.51869027 508253.25987971 508698.00108058 509142.74229268\n",
      " 509587.4835158  510032.22474975 510476.96599432 510921.70724932\n",
      " 511366.44851456 511811.18978985 512255.93107501 512700.67236986\n",
      " 513145.41367421 513590.1549879  514034.89631075 514479.6376426\n",
      " 514924.37898328 515369.12033263 515813.86169049 516258.60305671\n",
      " 516703.34443113 517148.0858136  517592.82720398 518037.56860212\n",
      " 518482.31000787 518927.05142111 519371.79284168 519816.53426947\n",
      " 520261.27570433 520706.01714613 521150.75859475 521595.50005007\n",
      " 522040.24151196 522484.9829803  522929.72445497 523374.46593586\n",
      " 523819.20742286 524263.94891584 524708.69041471 525153.43191935\n",
      " 525598.17342965 526042.91494553 526487.65646686 526932.39799356\n",
      " 527377.13952552 527821.88106266 528266.62260486 528711.36415205\n",
      " 529156.10570412 529600.84726099 530045.58882258 530490.33038879\n",
      " 530935.07195955 531379.81353476 531824.55511435 532269.29669823\n",
      " 532714.03828633 533158.77987858 533603.52147488 534048.26307518\n",
      " 534493.0046794  534937.74628746 535382.48789929 535827.22951483\n",
      " 536271.97113401 536716.71275676 537161.45438302 537606.19601271\n",
      " 538050.93764579 538495.67928219 538940.42092184 539385.16256468\n",
      " 539829.90421067 540274.64585973 540719.38751182 541164.12916688\n",
      " 541608.87082486 542053.61248569 542498.35414934 542943.09581574\n",
      " 543387.83748484 543832.57915661 544277.32083098 544722.06250792\n",
      " 545166.80418737 545611.54586929 546056.28755363 546501.02924035\n",
      " 546945.7709294  547390.51262075 547835.25431434 548279.99601015\n",
      " 548724.73770812 549169.47940822 549614.22111042 550058.96281466\n",
      " 550503.70452092 550948.44622916 551393.18793933 551837.92965142\n",
      " 552282.67136537 552727.41308116 553172.15479875 553616.89651811\n",
      " 554061.63823921 554506.37996202 554951.1216865  555395.86341262\n",
      " 555840.60514036 556285.34686968 556730.08860055 557174.83033295\n",
      " 557619.57206686 558064.31380223 558509.05553904 558953.79727728\n",
      " 559398.5390169  559843.2807579  560288.02250023 560732.76424388\n",
      " 561177.50598882 561622.24773504 562066.9894825  562511.73123118\n",
      " 562956.47298106 563401.21473212 563845.95648434 564290.69823769\n",
      " 564735.43999216 565180.18174772 565624.92350436 566069.66526205\n",
      " 566514.40702078 566959.14878052 567403.89054127 567848.63230299\n",
      " 568293.37406568 568738.1158293  569182.85759386 569627.59935933\n",
      " 570072.34112568 570517.08289292 570961.82466102 571406.56642996\n",
      " 571851.30819973 572296.04997032 572740.7917417  573185.53351388\n",
      " 573630.27528682 574075.01706052 574519.75883496 574964.50061013\n",
      " 575409.24238601 575853.9841626  576298.72593988 576743.46771783\n",
      " 577188.20949645 577632.95127572 578077.69305563 578522.43483618\n",
      " 578967.17661733 579411.9183991  579856.66018146 580301.4019644\n",
      " 580746.14374792 581190.885532   581635.62731663 582080.36910181\n",
      " 582525.11088751 582969.85267374 583414.59446049 583859.33624773\n",
      " 584304.07803548 584748.8198237  585193.56161241 585638.30340158\n",
      " 586083.04519121 586527.78698129 586972.52877182 587417.27056277\n",
      " 587862.01235416 588306.75414597 588751.49593818 589196.2377308\n",
      " 589640.97952382 590085.72131722 590530.46311101 590975.20490517\n",
      " 591419.9466997  591864.68849459 592309.43028983 592754.17208543\n",
      " 593198.91388136 593643.65567763 594088.39747423 594533.13927115\n",
      " 594977.8810684  595422.62286595 595867.36466381 596312.10646196\n",
      " 596756.84826042 597201.59005916 597646.33185819 598091.07365749\n",
      " 598535.81545707 598980.55725692 599425.29905703 599870.0408574\n",
      " 600314.78265803 600759.5244589  601204.26626003 601649.00806139\n",
      " 602093.74986298 602538.49166481 602983.23346687 603427.97526915\n",
      " 603872.71707165 604317.45887436 604762.20067729 605206.94248042\n",
      " 605651.68428376 606096.4260873  606541.16789103 606985.90969496\n",
      " 607430.65149907 607875.39330337 608320.13510786 608764.87691252\n",
      " 609209.61871736 609654.36052237 610099.10232755 610543.8441329\n",
      " 610988.58593841 611433.32774408 611878.0695499  612322.81135589\n",
      " 612767.55316202 613212.2949683  613657.03677473 614101.7785813\n",
      " 614546.52038801 614991.26219486 615436.00400185 615880.74580897\n",
      " 616325.48761622 616770.2294236  617214.9712311  617659.71303873\n",
      " 618104.45484648 618549.19665435 618993.93846234 619438.68027044\n",
      " 619883.42207865 620328.16388698 620772.90569541 621217.64750395\n",
      " 621662.38931259 622107.13112134 622551.87293019 622996.61473914\n",
      " 623441.35654818 623886.09835732 624330.84016656 624775.58197588\n",
      " 625220.3237853  625665.0655948  626109.8074044  626554.54921407\n",
      " 626999.29102384 627444.03283368 627888.7746436  628333.51645361\n",
      " 628778.25826369 629223.00007385 629667.74188408 630112.48369439\n",
      " 630557.22550477 631001.96731522 631446.70912574 631891.45093633\n",
      " 632336.19274699 632780.93455771 633225.6763685  633670.41817935\n",
      " 634115.15999026 634559.90180124 635004.64361227 635449.38542337\n",
      " 635894.12723452 636338.86904573 636783.61085699 637228.35266831]\n",
      "range(0, 800)\n"
     ]
    },
    {
     "data": {
      "text/plain": [
       "<matplotlib.collections.PathCollection at 0x1488b6210>"
      ]
     },
     "execution_count": 124,
     "metadata": {},
     "output_type": "execute_result"
    },
    {
     "data": {
      "image/png": "[encoded data removed]",
      "text/plain": [
       "<Figure size 432x288 with 1 Axes>"
      ]
     },
     "metadata": {
      "needs_background": "light"
     },
     "output_type": "display_data"
    }
   ],
   "source": [
    "print(yhat[0])\n",
    "y= range(len(yhat[0]))\n",
    "print(y)\n",
    "pyplot.scatter(yhat[0],y)"
   ]
  },
  {
   "cell_type": "code",
   "execution_count": 57,
   "metadata": {},
   "outputs": [],
   "source": [
    "import pmdarima as pm\n",
    "from pmdarima.model_selection import train_test_split\n",
    "import numpy as np\n",
    "import matplotlib.pyplot as plt"
   ]
  },
  {
   "cell_type": "code",
   "execution_count": 125,
   "metadata": {},
   "outputs": [],
   "source": [
    "\n",
    "train, test = train_test_split(PhiladelphiaSeries, train_size=150)"
   ]
  },
  {
   "cell_type": "code",
   "execution_count": 126,
   "metadata": {},
   "outputs": [
    {
     "name": "stderr",
     "output_type": "stream",
     "text": [
      "/Users/andrewghan/anaconda3/lib/python3.7/site-packages/statsmodels/base/model.py:568: ConvergenceWarning: Maximum Likelihood optimization failed to converge. Check mle_retvals\n",
      "  \"Check mle_retvals\", ConvergenceWarning)\n",
      "/Users/andrewghan/anaconda3/lib/python3.7/site-packages/statsmodels/base/model.py:568: ConvergenceWarning: Maximum Likelihood optimization failed to converge. Check mle_retvals\n",
      "  \"Check mle_retvals\", ConvergenceWarning)\n",
      "/Users/andrewghan/anaconda3/lib/python3.7/site-packages/statsmodels/base/model.py:568: ConvergenceWarning: Maximum Likelihood optimization failed to converge. Check mle_retvals\n",
      "  \"Check mle_retvals\", ConvergenceWarning)\n",
      "/Users/andrewghan/anaconda3/lib/python3.7/site-packages/statsmodels/base/model.py:568: ConvergenceWarning: Maximum Likelihood optimization failed to converge. Check mle_retvals\n",
      "  \"Check mle_retvals\", ConvergenceWarning)\n",
      "/Users/andrewghan/anaconda3/lib/python3.7/site-packages/statsmodels/base/model.py:568: ConvergenceWarning: Maximum Likelihood optimization failed to converge. Check mle_retvals\n",
      "  \"Check mle_retvals\", ConvergenceWarning)\n",
      "/Users/andrewghan/anaconda3/lib/python3.7/site-packages/statsmodels/base/model.py:568: ConvergenceWarning: Maximum Likelihood optimization failed to converge. Check mle_retvals\n",
      "  \"Check mle_retvals\", ConvergenceWarning)\n",
      "/Users/andrewghan/anaconda3/lib/python3.7/site-packages/statsmodels/base/model.py:568: ConvergenceWarning: Maximum Likelihood optimization failed to converge. Check mle_retvals\n",
      "  \"Check mle_retvals\", ConvergenceWarning)\n",
      "/Users/andrewghan/anaconda3/lib/python3.7/site-packages/statsmodels/base/model.py:568: ConvergenceWarning: Maximum Likelihood optimization failed to converge. Check mle_retvals\n",
      "  \"Check mle_retvals\", ConvergenceWarning)\n",
      "/Users/andrewghan/anaconda3/lib/python3.7/site-packages/statsmodels/base/model.py:568: ConvergenceWarning: Maximum Likelihood optimization failed to converge. Check mle_retvals\n",
      "  \"Check mle_retvals\", ConvergenceWarning)\n",
      "/Users/andrewghan/anaconda3/lib/python3.7/site-packages/statsmodels/base/model.py:568: ConvergenceWarning: Maximum Likelihood optimization failed to converge. Check mle_retvals\n",
      "  \"Check mle_retvals\", ConvergenceWarning)\n",
      "/Users/andrewghan/anaconda3/lib/python3.7/site-packages/statsmodels/base/model.py:568: ConvergenceWarning: Maximum Likelihood optimization failed to converge. Check mle_retvals\n",
      "  \"Check mle_retvals\", ConvergenceWarning)\n",
      "/Users/andrewghan/anaconda3/lib/python3.7/site-packages/statsmodels/base/model.py:568: ConvergenceWarning: Maximum Likelihood optimization failed to converge. Check mle_retvals\n",
      "  \"Check mle_retvals\", ConvergenceWarning)\n",
      "/Users/andrewghan/anaconda3/lib/python3.7/site-packages/statsmodels/base/model.py:568: ConvergenceWarning: Maximum Likelihood optimization failed to converge. Check mle_retvals\n",
      "  \"Check mle_retvals\", ConvergenceWarning)\n",
      "/Users/andrewghan/anaconda3/lib/python3.7/site-packages/statsmodels/base/model.py:568: ConvergenceWarning: Maximum Likelihood optimization failed to converge. Check mle_retvals\n",
      "  \"Check mle_retvals\", ConvergenceWarning)\n",
      "/Users/andrewghan/anaconda3/lib/python3.7/site-packages/statsmodels/base/model.py:568: ConvergenceWarning: Maximum Likelihood optimization failed to converge. Check mle_retvals\n",
      "  \"Check mle_retvals\", ConvergenceWarning)\n",
      "/Users/andrewghan/anaconda3/lib/python3.7/site-packages/statsmodels/tsa/statespace/sarimax.py:963: UserWarning: Non-stationary starting autoregressive parameters found. Using zeros as starting parameters.\n",
      "  warn('Non-stationary starting autoregressive parameters'\n",
      "/Users/andrewghan/anaconda3/lib/python3.7/site-packages/statsmodels/tsa/statespace/sarimax.py:975: UserWarning: Non-invertible starting MA parameters found. Using zeros as starting parameters.\n",
      "  warn('Non-invertible starting MA parameters found.'\n",
      "/Users/andrewghan/anaconda3/lib/python3.7/site-packages/statsmodels/base/model.py:568: ConvergenceWarning: Maximum Likelihood optimization failed to converge. Check mle_retvals\n",
      "  \"Check mle_retvals\", ConvergenceWarning)\n",
      "/Users/andrewghan/anaconda3/lib/python3.7/site-packages/statsmodels/tsa/statespace/sarimax.py:975: UserWarning: Non-invertible starting MA parameters found. Using zeros as starting parameters.\n",
      "  warn('Non-invertible starting MA parameters found.'\n",
      "/Users/andrewghan/anaconda3/lib/python3.7/site-packages/statsmodels/base/model.py:568: ConvergenceWarning: Maximum Likelihood optimization failed to converge. Check mle_retvals\n",
      "  \"Check mle_retvals\", ConvergenceWarning)\n"
     ]
    }
   ],
   "source": [
    "model = pm.auto_arima(train, seasonal=True, m=12)\n"
   ]
  },
  {
   "cell_type": "code",
   "execution_count": 131,
   "metadata": {},
   "outputs": [
    {
     "data": {
      "text/plain": [
       "(115,)"
      ]
     },
     "execution_count": 131,
     "metadata": {},
     "output_type": "execute_result"
    }
   ],
   "source": [
    "forecasts.shape"
   ]
  },
  {
   "cell_type": "code",
   "execution_count": 128,
   "metadata": {},
   "outputs": [
    {
     "data": {
      "text/plain": [
       "(150,)"
      ]
     },
     "execution_count": 128,
     "metadata": {},
     "output_type": "execute_result"
    }
   ],
   "source": [
    "train.shape"
   ]
  },
  {
   "cell_type": "code",
   "execution_count": 129,
   "metadata": {},
   "outputs": [
    {
     "data": {
      "text/plain": [
       "(115,)"
      ]
     },
     "execution_count": 129,
     "metadata": {},
     "output_type": "execute_result"
    }
   ],
   "source": [
    "test.shape"
   ]
  },
  {
   "cell_type": "code",
   "execution_count": 132,
   "metadata": {
    "scrolled": true
   },
   "outputs": [
    {
     "data": {
      "image/png": "[encoded data removed]",
      "text/plain": [
       "<Figure size 432x288 with 1 Axes>"
      ]
     },
     "metadata": {
      "needs_background": "light"
     },
     "output_type": "display_data"
    }
   ],
   "source": [
    "# make your forecasts\n",
    "forecasts = model.predict(test.shape[0])  # predict N steps into the future\n",
    "\n",
    "# Visualize the forecasts (blue=train, green=forecasts)\n",
    "x = np.arange(PhiladelphiaSeries.shape[0])\n",
    "plt.plot(x[:150], train, c='blue')\n",
    "plt.plot(x[150:], forecasts, c='green')\n",
    "plt.show()"
   ]
  },
  {
   "cell_type": "code",
   "execution_count": 182,
   "metadata": {},
   "outputs": [],
   "source": [
    "def GDPpercchange(second,first):\n",
    "    DeltaGDP = ((second - first)/first)*100\n",
    "    DeltaGDP = np.round(DeltaGDP,2)\n",
    "    return DeltaGDP\n",
    "\n",
    "    "
   ]
  },
  {
   "cell_type": "markdown",
   "metadata": {},
   "source": [
    "All GDP Data is from https://www.bea.gov/"
   ]
  },
  {
   "cell_type": "markdown",
   "metadata": {},
   "source": [
    "Phoniex GDP"
   ]
  },
  {
   "cell_type": "code",
   "execution_count": 183,
   "metadata": {},
   "outputs": [
    {
     "data": {
      "text/plain": [
       "-8.5"
      ]
     },
     "execution_count": 183,
     "metadata": {},
     "output_type": "execute_result"
    }
   ],
   "source": [
    "GDPpercchange(172976050,189049686)"
   ]
  },
  {
   "cell_type": "code",
   "execution_count": 184,
   "metadata": {
    "scrolled": true
   },
   "outputs": [
    {
     "data": {
      "text/plain": [
       "47.54"
      ]
     },
     "execution_count": 184,
     "metadata": {},
     "output_type": "execute_result"
    }
   ],
   "source": [
    "GDPpercchange(255211769,172976050)"
   ]
  },
  {
   "cell_type": "markdown",
   "metadata": {},
   "source": [
    "Phoniex Tech GDP "
   ]
  },
  {
   "cell_type": "code",
   "execution_count": 185,
   "metadata": {},
   "outputs": [
    {
     "data": {
      "text/plain": [
       "2.0"
      ]
     },
     "execution_count": 185,
     "metadata": {},
     "output_type": "execute_result"
    }
   ],
   "source": [
    "GDPpercchange(5445614,5338975)"
   ]
  },
  {
   "cell_type": "code",
   "execution_count": 186,
   "metadata": {},
   "outputs": [
    {
     "data": {
      "text/plain": [
       "76.6"
      ]
     },
     "execution_count": 186,
     "metadata": {},
     "output_type": "execute_result"
    }
   ],
   "source": [
    "GDPpercchange(9428552,5338975)"
   ]
  },
  {
   "cell_type": "markdown",
   "metadata": {},
   "source": [
    "Houston GDP"
   ]
  },
  {
   "cell_type": "code",
   "execution_count": 187,
   "metadata": {},
   "outputs": [
    {
     "data": {
      "text/plain": [
       "-1.94"
      ]
     },
     "execution_count": 187,
     "metadata": {},
     "output_type": "execute_result"
    }
   ],
   "source": [
    "GDPpercchange(324638408,331049498)"
   ]
  },
  {
   "cell_type": "code",
   "execution_count": 188,
   "metadata": {
    "scrolled": true
   },
   "outputs": [
    {
     "data": {
      "text/plain": [
       "47.48"
      ]
     },
     "execution_count": 188,
     "metadata": {},
     "output_type": "execute_result"
    }
   ],
   "source": [
    "GDPpercchange(478778576,324638408)"
   ]
  },
  {
   "cell_type": "markdown",
   "metadata": {},
   "source": [
    "Houston Tech GDP"
   ]
  },
  {
   "cell_type": "code",
   "execution_count": 211,
   "metadata": {},
   "outputs": [
    {
     "data": {
      "text/plain": [
       "27.55"
      ]
     },
     "execution_count": 211,
     "metadata": {},
     "output_type": "execute_result"
    }
   ],
   "source": [
    "#from 2006-2017\n",
    "GDPpercchange(9032605,7081749)"
   ]
  },
  {
   "cell_type": "markdown",
   "metadata": {},
   "source": [
    "Huntsville GDP"
   ]
  },
  {
   "cell_type": "code",
   "execution_count": 189,
   "metadata": {},
   "outputs": [
    {
     "data": {
      "text/plain": [
       "7.21"
      ]
     },
     "execution_count": 189,
     "metadata": {},
     "output_type": "execute_result"
    }
   ],
   "source": [
    "GDPpercchange(20436982,19062619)"
   ]
  },
  {
   "cell_type": "code",
   "execution_count": 190,
   "metadata": {
    "scrolled": true
   },
   "outputs": [
    {
     "data": {
      "text/plain": [
       "34.84"
      ]
     },
     "execution_count": 190,
     "metadata": {},
     "output_type": "execute_result"
    }
   ],
   "source": [
    "GDPpercchange(27558022,20436982)"
   ]
  },
  {
   "cell_type": "markdown",
   "metadata": {},
   "source": [
    "Huntsville Tech GDP"
   ]
  },
  {
   "cell_type": "code",
   "execution_count": 212,
   "metadata": {},
   "outputs": [
    {
     "data": {
      "text/plain": [
       "19.35"
      ]
     },
     "execution_count": 212,
     "metadata": {},
     "output_type": "execute_result"
    }
   ],
   "source": [
    "GDPpercchange(368868,309064)"
   ]
  },
  {
   "cell_type": "code",
   "execution_count": 213,
   "metadata": {},
   "outputs": [
    {
     "data": {
      "text/plain": [
       "70.18"
      ]
     },
     "execution_count": 213,
     "metadata": {},
     "output_type": "execute_result"
    }
   ],
   "source": [
    "GDPpercchange(627747,368868)"
   ]
  },
  {
   "cell_type": "markdown",
   "metadata": {},
   "source": [
    "Altanta GDP"
   ]
  },
  {
   "cell_type": "code",
   "execution_count": 191,
   "metadata": {},
   "outputs": [
    {
     "data": {
      "text/plain": [
       "-3.5"
      ]
     },
     "execution_count": 191,
     "metadata": {},
     "output_type": "execute_result"
    }
   ],
   "source": [
    "GDPpercchange(261817867,271327784)"
   ]
  },
  {
   "cell_type": "code",
   "execution_count": 192,
   "metadata": {},
   "outputs": [
    {
     "data": {
      "text/plain": [
       "51.73"
      ]
     },
     "execution_count": 192,
     "metadata": {},
     "output_type": "execute_result"
    }
   ],
   "source": [
    "GDPpercchange(397261292,261817867)"
   ]
  },
  {
   "cell_type": "markdown",
   "metadata": {},
   "source": [
    "Atlanta Tech GDP"
   ]
  },
  {
   "cell_type": "code",
   "execution_count": 215,
   "metadata": {},
   "outputs": [
    {
     "data": {
      "text/plain": [
       "48.56"
      ]
     },
     "execution_count": 215,
     "metadata": {},
     "output_type": "execute_result"
    }
   ],
   "source": [
    "#From 2008 to 2018\n",
    "GDPpercchange(43253614,29115420)"
   ]
  },
  {
   "cell_type": "markdown",
   "metadata": {},
   "source": [
    "Baltimore GDP"
   ]
  },
  {
   "cell_type": "code",
   "execution_count": 193,
   "metadata": {},
   "outputs": [
    {
     "data": {
      "text/plain": [
       "4.32"
      ]
     },
     "execution_count": 193,
     "metadata": {},
     "output_type": "execute_result"
    }
   ],
   "source": [
    "GDPpercchange(149240219,143054171)"
   ]
  },
  {
   "cell_type": "code",
   "execution_count": 194,
   "metadata": {
    "scrolled": true
   },
   "outputs": [
    {
     "data": {
      "text/plain": [
       "37.57"
      ]
     },
     "execution_count": 194,
     "metadata": {},
     "output_type": "execute_result"
    }
   ],
   "source": [
    "GDPpercchange(205313937,149240219)"
   ]
  },
  {
   "cell_type": "markdown",
   "metadata": {},
   "source": [
    "Baltimore tech GDP"
   ]
  },
  {
   "cell_type": "code",
   "execution_count": 220,
   "metadata": {},
   "outputs": [
    {
     "data": {
      "text/plain": [
       "30.72"
      ]
     },
     "execution_count": 220,
     "metadata": {},
     "output_type": "execute_result"
    }
   ],
   "source": [
    "#2007 - 2009\n",
    "GDPpercchange(6082449,4653103)"
   ]
  },
  {
   "cell_type": "code",
   "execution_count": 221,
   "metadata": {},
   "outputs": [
    {
     "data": {
      "text/plain": [
       "-12.53"
      ]
     },
     "execution_count": 221,
     "metadata": {},
     "output_type": "execute_result"
    }
   ],
   "source": [
    "#2009 - 20014\n",
    "GDPpercchange(5320115,6082449)"
   ]
  },
  {
   "cell_type": "code",
   "execution_count": 222,
   "metadata": {},
   "outputs": [
    {
     "data": {
      "text/plain": [
       "37.2"
      ]
     },
     "execution_count": 222,
     "metadata": {},
     "output_type": "execute_result"
    }
   ],
   "source": [
    "#2014 - 2018\n",
    "GDPpercchange(7298961,5320115)"
   ]
  },
  {
   "cell_type": "markdown",
   "metadata": {},
   "source": [
    "Raleigh GDP"
   ]
  },
  {
   "cell_type": "code",
   "execution_count": 223,
   "metadata": {},
   "outputs": [
    {
     "data": {
      "text/plain": [
       "1.91"
      ]
     },
     "execution_count": 223,
     "metadata": {},
     "output_type": "execute_result"
    }
   ],
   "source": [
    "GDPpercchange(50373664,49429909)"
   ]
  },
  {
   "cell_type": "code",
   "execution_count": 224,
   "metadata": {},
   "outputs": [
    {
     "data": {
      "text/plain": [
       "66.09"
      ]
     },
     "execution_count": 224,
     "metadata": {},
     "output_type": "execute_result"
    }
   ],
   "source": [
    "GDPpercchange(83665937,50373664)"
   ]
  },
  {
   "cell_type": "markdown",
   "metadata": {},
   "source": [
    "Raleigh tech GDP"
   ]
  },
  {
   "cell_type": "code",
   "execution_count": 225,
   "metadata": {},
   "outputs": [
    {
     "data": {
      "text/plain": [
       "12.25"
      ]
     },
     "execution_count": 225,
     "metadata": {},
     "output_type": "execute_result"
    }
   ],
   "source": [
    "GDPpercchange(3747575,3338700)"
   ]
  },
  {
   "cell_type": "code",
   "execution_count": 226,
   "metadata": {},
   "outputs": [
    {
     "data": {
      "text/plain": [
       "80.99"
      ]
     },
     "execution_count": 226,
     "metadata": {},
     "output_type": "execute_result"
    }
   ],
   "source": [
    "GDPpercchange(6782874,3747575)"
   ]
  },
  {
   "cell_type": "markdown",
   "metadata": {},
   "source": [
    "Miami GDP"
   ]
  },
  {
   "cell_type": "code",
   "execution_count": 227,
   "metadata": {},
   "outputs": [
    {
     "data": {
      "text/plain": [
       "-6.51"
      ]
     },
     "execution_count": 227,
     "metadata": {},
     "output_type": "execute_result"
    }
   ],
   "source": [
    "GDPpercchange(238102779,254692208)"
   ]
  },
  {
   "cell_type": "code",
   "execution_count": 228,
   "metadata": {},
   "outputs": [
    {
     "data": {
      "text/plain": [
       "48.99"
      ]
     },
     "execution_count": 228,
     "metadata": {},
     "output_type": "execute_result"
    }
   ],
   "source": [
    "GDPpercchange(354740098,238102779)"
   ]
  },
  {
   "cell_type": "markdown",
   "metadata": {},
   "source": [
    "Miami tech GDP"
   ]
  },
  {
   "cell_type": "code",
   "execution_count": 229,
   "metadata": {},
   "outputs": [
    {
     "data": {
      "text/plain": [
       "7.4"
      ]
     },
     "execution_count": 229,
     "metadata": {},
     "output_type": "execute_result"
    }
   ],
   "source": [
    "GDPpercchange(13946106,12984924)"
   ]
  },
  {
   "cell_type": "code",
   "execution_count": 230,
   "metadata": {},
   "outputs": [
    {
     "data": {
      "text/plain": [
       "34.32"
      ]
     },
     "execution_count": 230,
     "metadata": {},
     "output_type": "execute_result"
    }
   ],
   "source": [
    "GDPpercchange(18732527,13946106)"
   ]
  },
  {
   "cell_type": "markdown",
   "metadata": {},
   "source": [
    "Philadelphia GDP "
   ]
  },
  {
   "cell_type": "code",
   "execution_count": 231,
   "metadata": {},
   "outputs": [
    {
     "data": {
      "text/plain": [
       "2.25"
      ]
     },
     "execution_count": 231,
     "metadata": {},
     "output_type": "execute_result"
    }
   ],
   "source": [
    "GDPpercchange(333097118,325768933)"
   ]
  },
  {
   "cell_type": "code",
   "execution_count": 232,
   "metadata": {
    "scrolled": true
   },
   "outputs": [
    {
     "data": {
      "text/plain": [
       "33.34"
      ]
     },
     "execution_count": 232,
     "metadata": {},
     "output_type": "execute_result"
    }
   ],
   "source": [
    "GDPpercchange(444148100,333097118)"
   ]
  },
  {
   "cell_type": "markdown",
   "metadata": {},
   "source": [
    "philadelphia tech GDP\n"
   ]
  },
  {
   "cell_type": "code",
   "execution_count": 233,
   "metadata": {},
   "outputs": [
    {
     "data": {
      "text/plain": [
       "27.05"
      ]
     },
     "execution_count": 233,
     "metadata": {},
     "output_type": "execute_result"
    }
   ],
   "source": [
    "GDPpercchange(25073228,19735404)"
   ]
  },
  {
   "cell_type": "code",
   "execution_count": 234,
   "metadata": {},
   "outputs": [
    {
     "data": {
      "text/plain": [
       "40.76"
      ]
     },
     "execution_count": 234,
     "metadata": {},
     "output_type": "execute_result"
    }
   ],
   "source": [
    "GDPpercchange(35291891,25073228)"
   ]
  },
  {
   "cell_type": "markdown",
   "metadata": {},
   "source": [
    "Austin GDP"
   ]
  },
  {
   "cell_type": "code",
   "execution_count": 235,
   "metadata": {},
   "outputs": [
    {
     "data": {
      "text/plain": [
       "3.26"
      ]
     },
     "execution_count": 235,
     "metadata": {},
     "output_type": "execute_result"
    }
   ],
   "source": [
    "GDPpercchange(84130319,81470968)"
   ]
  },
  {
   "cell_type": "code",
   "execution_count": 236,
   "metadata": {},
   "outputs": [
    {
     "data": {
      "text/plain": [
       "74.47"
      ]
     },
     "execution_count": 236,
     "metadata": {},
     "output_type": "execute_result"
    }
   ],
   "source": [
    "GDPpercchange(146784519,84130319)"
   ]
  },
  {
   "cell_type": "markdown",
   "metadata": {},
   "source": [
    "Austin Tech GDP"
   ]
  },
  {
   "cell_type": "code",
   "execution_count": 237,
   "metadata": {},
   "outputs": [
    {
     "data": {
      "text/plain": [
       "-11.19"
      ]
     },
     "execution_count": 237,
     "metadata": {},
     "output_type": "execute_result"
    }
   ],
   "source": [
    "GDPpercchange(5628395,6337840)"
   ]
  },
  {
   "cell_type": "code",
   "execution_count": 238,
   "metadata": {},
   "outputs": [
    {
     "data": {
      "text/plain": [
       "54.02"
      ]
     },
     "execution_count": 238,
     "metadata": {},
     "output_type": "execute_result"
    }
   ],
   "source": [
    "#used 2017 instead of 2018 because of the lack of data \n",
    "GDPpercchange(8668981,5628395)"
   ]
  },
  {
   "cell_type": "markdown",
   "metadata": {},
   "source": [
    "# Employment data of Information technology"
   ]
  },
  {
   "cell_type": "markdown",
   "metadata": {},
   "source": [
    "All Employment Data is from https://www.bls.gov/oes/tables.htm"
   ]
  },
  {
   "cell_type": "markdown",
   "metadata": {},
   "source": [
    "## Raliegh employment rate "
   ]
  },
  {
   "cell_type": "code",
   "execution_count": 245,
   "metadata": {},
   "outputs": [
    {
     "data": {
      "text/plain": [
       "5.88"
      ]
     },
     "execution_count": 245,
     "metadata": {},
     "output_type": "execute_result"
    }
   ],
   "source": [
    "#2007 - 2009\n",
    "GDPpercchange(21800,20590)"
   ]
  },
  {
   "cell_type": "code",
   "execution_count": 246,
   "metadata": {},
   "outputs": [
    {
     "data": {
      "text/plain": [
       "64.4"
      ]
     },
     "execution_count": 246,
     "metadata": {},
     "output_type": "execute_result"
    }
   ],
   "source": [
    "#2009 - 2018\n",
    "GDPpercchange(35840,21800)"
   ]
  },
  {
   "cell_type": "code",
   "execution_count": null,
   "metadata": {},
   "outputs": [],
   "source": []
  },
  {
   "cell_type": "markdown",
   "metadata": {},
   "source": [
    "## Atlanta \n"
   ]
  },
  {
   "cell_type": "code",
   "execution_count": 243,
   "metadata": {},
   "outputs": [
    {
     "data": {
      "text/plain": [
       "7.23"
      ]
     },
     "execution_count": 243,
     "metadata": {},
     "output_type": "execute_result"
    }
   ],
   "source": [
    "#2007 - 2009 \n",
    "GDPpercchange(77020,71830)"
   ]
  },
  {
   "cell_type": "code",
   "execution_count": 244,
   "metadata": {},
   "outputs": [
    {
     "data": {
      "text/plain": [
       "60.14"
      ]
     },
     "execution_count": 244,
     "metadata": {},
     "output_type": "execute_result"
    }
   ],
   "source": [
    "#2009-2018\n",
    "GDPpercchange(123340,77020)"
   ]
  },
  {
   "cell_type": "markdown",
   "metadata": {},
   "source": [
    "## Phoenix"
   ]
  },
  {
   "cell_type": "code",
   "execution_count": 247,
   "metadata": {},
   "outputs": [
    {
     "data": {
      "text/plain": [
       "1.64"
      ]
     },
     "execution_count": 247,
     "metadata": {},
     "output_type": "execute_result"
    }
   ],
   "source": [
    "GDPpercchange(43960,43250)"
   ]
  },
  {
   "cell_type": "code",
   "execution_count": 248,
   "metadata": {},
   "outputs": [
    {
     "data": {
      "text/plain": [
       "72.27"
      ]
     },
     "execution_count": 248,
     "metadata": {},
     "output_type": "execute_result"
    }
   ],
   "source": [
    "GDPpercchange(75730,43960)"
   ]
  },
  {
   "cell_type": "markdown",
   "metadata": {},
   "source": [
    "## Baltimore "
   ]
  },
  {
   "cell_type": "code",
   "execution_count": 250,
   "metadata": {},
   "outputs": [
    {
     "data": {
      "text/plain": [
       "2.93"
      ]
     },
     "execution_count": 250,
     "metadata": {},
     "output_type": "execute_result"
    }
   ],
   "source": [
    "GDPpercchange(43960,42710)"
   ]
  },
  {
   "cell_type": "code",
   "execution_count": 249,
   "metadata": {},
   "outputs": [
    {
     "data": {
      "text/plain": [
       "47.38"
      ]
     },
     "execution_count": 249,
     "metadata": {},
     "output_type": "execute_result"
    }
   ],
   "source": [
    "GDPpercchange(64790,43960)"
   ]
  },
  {
   "cell_type": "markdown",
   "metadata": {},
   "source": [
    "## Huntsville"
   ]
  },
  {
   "cell_type": "code",
   "execution_count": 252,
   "metadata": {},
   "outputs": [
    {
     "data": {
      "text/plain": [
       "1.04"
      ]
     },
     "execution_count": 252,
     "metadata": {},
     "output_type": "execute_result"
    }
   ],
   "source": [
    "GDPpercchange(12580,12450)"
   ]
  },
  {
   "cell_type": "code",
   "execution_count": 251,
   "metadata": {},
   "outputs": [
    {
     "data": {
      "text/plain": [
       "21.78"
      ]
     },
     "execution_count": 251,
     "metadata": {},
     "output_type": "execute_result"
    }
   ],
   "source": [
    "GDPpercchange(15320,12580)"
   ]
  },
  {
   "cell_type": "markdown",
   "metadata": {},
   "source": [
    "## Austin"
   ]
  },
  {
   "cell_type": "code",
   "execution_count": 253,
   "metadata": {},
   "outputs": [
    {
     "data": {
      "text/plain": [
       "3.54"
      ]
     },
     "execution_count": 253,
     "metadata": {},
     "output_type": "execute_result"
    }
   ],
   "source": [
    "GDPpercchange(41560,40140)"
   ]
  },
  {
   "cell_type": "code",
   "execution_count": 254,
   "metadata": {},
   "outputs": [
    {
     "data": {
      "text/plain": [
       "47.88"
      ]
     },
     "execution_count": 254,
     "metadata": {},
     "output_type": "execute_result"
    }
   ],
   "source": [
    "GDPpercchange(61460,41560)"
   ]
  },
  {
   "cell_type": "markdown",
   "metadata": {},
   "source": [
    "## Miami"
   ]
  },
  {
   "cell_type": "code",
   "execution_count": 255,
   "metadata": {},
   "outputs": [
    {
     "data": {
      "text/plain": [
       "7.49"
      ]
     },
     "execution_count": 255,
     "metadata": {},
     "output_type": "execute_result"
    }
   ],
   "source": [
    "GDPpercchange(16510,15360)"
   ]
  },
  {
   "cell_type": "code",
   "execution_count": 256,
   "metadata": {},
   "outputs": [
    {
     "data": {
      "text/plain": [
       "237.25"
      ]
     },
     "execution_count": 256,
     "metadata": {},
     "output_type": "execute_result"
    }
   ],
   "source": [
    "GDPpercchange(55680,16510)"
   ]
  },
  {
   "cell_type": "markdown",
   "metadata": {},
   "source": [
    "## Philadelphia "
   ]
  },
  {
   "cell_type": "code",
   "execution_count": 257,
   "metadata": {},
   "outputs": [
    {
     "data": {
      "text/plain": [
       "3.6"
      ]
     },
     "execution_count": 257,
     "metadata": {},
     "output_type": "execute_result"
    }
   ],
   "source": [
    "GDPpercchange(56620,54650)"
   ]
  },
  {
   "cell_type": "code",
   "execution_count": 258,
   "metadata": {},
   "outputs": [
    {
     "data": {
      "text/plain": [
       "74.99"
      ]
     },
     "execution_count": 258,
     "metadata": {},
     "output_type": "execute_result"
    }
   ],
   "source": [
    "GDPpercchange(99080,56620)"
   ]
  }
 ],
 "metadata": {
  "kernelspec": {
   "display_name": "Python 3",
   "language": "python",
   "name": "python3"
  },
  "language_info": {
   "codemirror_mode": {
    "name": "ipython",
    "version": 3
   },
   "file_extension": ".py",
   "mimetype": "text/x-python",
   "name": "python",
   "nbconvert_exporter": "python",
   "pygments_lexer": "ipython3",
   "version": "3.7.4"
  }
 },
 "nbformat": 4,
 "nbformat_minor": 2
}
