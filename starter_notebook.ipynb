{
 "cells": [
  {
   "cell_type": "markdown",
   "metadata": {},
   "source": [
    "# Mod 4 Project - Starter Notebook\n",
    "\n",
    "This notebook has been provided to you so that you can make use of the following starter code to help with the trickier parts of preprocessing the Zillow dataset. \n",
    "\n",
    "The notebook contains a rough outline the general order you'll likely want to take in this project. You'll notice that most of the areas are left blank. This is so that it's more obvious exactly when you should make use of the starter code provided for preprocessing. \n",
    "\n",
    "**_NOTE:_** The number of empty cells are not meant to infer how much or how little code should be involved in any given step--we've just provided a few for your convenience. Add, delete, and change things around in this notebook as needed!\n",
    "\n",
    "# Some Notes Before Starting\n",
    "\n",
    "This project will be one of the more challenging projects you complete in this program. This is because working with Time Series data is a bit different than working with regular datasets. In order to make this a bit less frustrating and help you understand what you need to do (and when you need to do it), we'll quickly review the dataset formats that you'll encounter in this project. \n",
    "\n",
    "## Wide Format vs Long Format\n",
    "\n",
    "If you take a look at the format of the data in `zillow_data.csv`, you'll notice that the actual Time Series values are stored as separate columns. Here's a sample: \n",
    "\n",
    "<img src='https://raw.githubusercontent.com/learn-co-students/dsc-mod-4-project-seattle-ds-102819/master/images/df_head.png'>\n",
    "\n",
    "You'll notice that the first seven columns look like any other dataset you're used to working with. However, column 8 refers to the median housing sales values for April 1996, column 9 for May 1996, and so on. This This is called **_Wide Format_**, and it makes the dataframe intuitive and easy to read. However, there are problems with this format when it comes to actually learning from the data, because the data only makes sense if you know the name of the column that the data can be found it. Since column names are metadata, our algorithms will miss out on what dates each value is for. This means that before we pass this data to our ARIMA model, we'll need to reshape our dataset to **_Long Format_**. Reshaped into long format, the dataframe above would now look like:\n",
    "\n",
    "<img src='https://raw.githubusercontent.com/learn-co-students/dsc-mod-4-project-seattle-ds-102819/master/images/melted1.png'>\n",
    "\n",
    "There are now many more rows in this dataset--one for each unique time and zipcode combination in the data! Once our dataset is in this format, we'll be able to train an ARIMA model on it. The method used to convert from Wide to Long is `pd.melt()`, and it is common to refer to our dataset as 'melted' after the transition to denote that it is in long format. \n",
    "\n",
    "# Helper Functions Provided\n",
    "\n",
    "Melting a dataset can be tricky if you've never done it before, so you'll see that we have provided a sample function, `melt_data()`, to help you with this step below. Also provided is:\n",
    "\n",
    "* `get_datetimes()`, a function to deal with converting the column values for datetimes as a pandas series of datetime objects\n",
    "* Some good parameters for matplotlib to help make your visualizations more readable. \n",
    "\n",
    "Good luck!\n",
    "\n",
    "\n",
    "# Step 1: Load the Data/Filtering for Chosen Zipcodes"
   ]
  },
  {
   "cell_type": "code",
   "execution_count": 174,
   "metadata": {},
   "outputs": [],
   "source": [
    "import pandas as pd \n",
    "from matplotlib import pyplot\n",
    "import matplotlib  \n",
    "import numpy as np\n",
    "from pandas.plotting import autocorrelation_plot\n",
    "from statsmodels.tsa.arima_model import ARIMA\n",
    "from pandas import DataFrame"
   ]
  },
  {
   "cell_type": "code",
   "execution_count": 3,
   "metadata": {},
   "outputs": [],
   "source": [
    "df = pd.read_csv('zillow_data.csv')"
   ]
  },
  {
   "cell_type": "code",
   "execution_count": 88,
   "metadata": {},
   "outputs": [],
   "source": [
    "df.drop(columns= 'RegionID',inplace=True)\n",
    "df.drop(columns= 'SizeRank',inplace=True)"
   ]
  },
  {
   "cell_type": "markdown",
   "metadata": {},
   "source": [
    "# Step 2: Data Preprocessing"
   ]
  },
  {
   "cell_type": "code",
   "execution_count": 89,
   "metadata": {},
   "outputs": [],
   "source": [
    "def get_datetimes(df):\n",
    "    return pd.to_datetime(df.columns.values[7:], format='%Y-%m')"
   ]
  },
  {
   "cell_type": "code",
   "execution_count": 90,
   "metadata": {},
   "outputs": [
    {
     "data": {
      "text/plain": [
       "DatetimeIndex(['1996-06-01', '1996-07-01', '1996-08-01', '1996-09-01',\n",
       "               '1996-10-01', '1996-11-01', '1996-12-01', '1997-01-01',\n",
       "               '1997-02-01', '1997-03-01',\n",
       "               ...\n",
       "               '2017-07-01', '2017-08-01', '2017-09-01', '2017-10-01',\n",
       "               '2017-11-01', '2017-12-01', '2018-01-01', '2018-02-01',\n",
       "               '2018-03-01', '2018-04-01'],\n",
       "              dtype='datetime64[ns]', length=263, freq=None)"
      ]
     },
     "execution_count": 90,
     "metadata": {},
     "output_type": "execute_result"
    }
   ],
   "source": [
    "get_datetimes(df)"
   ]
  },
  {
   "cell_type": "code",
   "execution_count": 91,
   "metadata": {
    "scrolled": false
   },
   "outputs": [],
   "source": [
    "cities = ['Austin', 'Raleigh','Atlanta','Phoenix','Miami','Huntsville','Baltimore']"
   ]
  },
  {
   "cell_type": "code",
   "execution_count": 92,
   "metadata": {},
   "outputs": [],
   "source": [
    "selected = df[df['City'].isin(cities)]"
   ]
  },
  {
   "cell_type": "code",
   "execution_count": 93,
   "metadata": {},
   "outputs": [
    {
     "data": {
      "text/html": [
       "<div>\n",
       "<style scoped>\n",
       "    .dataframe tbody tr th:only-of-type {\n",
       "        vertical-align: middle;\n",
       "    }\n",
       "\n",
       "    .dataframe tbody tr th {\n",
       "        vertical-align: top;\n",
       "    }\n",
       "\n",
       "    .dataframe thead th {\n",
       "        text-align: right;\n",
       "    }\n",
       "</style>\n",
       "<table border=\"1\" class=\"dataframe\">\n",
       "  <thead>\n",
       "    <tr style=\"text-align: right;\">\n",
       "      <th></th>\n",
       "      <th>RegionName</th>\n",
       "      <th>City</th>\n",
       "      <th>State</th>\n",
       "      <th>Metro</th>\n",
       "      <th>CountyName</th>\n",
       "      <th>1996-04</th>\n",
       "      <th>1996-05</th>\n",
       "      <th>1996-06</th>\n",
       "      <th>1996-07</th>\n",
       "      <th>1996-08</th>\n",
       "      <th>...</th>\n",
       "      <th>2017-07</th>\n",
       "      <th>2017-08</th>\n",
       "      <th>2017-09</th>\n",
       "      <th>2017-10</th>\n",
       "      <th>2017-11</th>\n",
       "      <th>2017-12</th>\n",
       "      <th>2018-01</th>\n",
       "      <th>2018-02</th>\n",
       "      <th>2018-03</th>\n",
       "      <th>2018-04</th>\n",
       "    </tr>\n",
       "  </thead>\n",
       "  <tbody>\n",
       "    <tr>\n",
       "      <td>56</td>\n",
       "      <td>85032</td>\n",
       "      <td>Phoenix</td>\n",
       "      <td>AZ</td>\n",
       "      <td>Phoenix</td>\n",
       "      <td>Maricopa</td>\n",
       "      <td>95400.0</td>\n",
       "      <td>95800.0</td>\n",
       "      <td>96200.0</td>\n",
       "      <td>96700.0</td>\n",
       "      <td>97200.0</td>\n",
       "      <td>...</td>\n",
       "      <td>255000</td>\n",
       "      <td>256300</td>\n",
       "      <td>257800</td>\n",
       "      <td>259500</td>\n",
       "      <td>260700</td>\n",
       "      <td>261900</td>\n",
       "      <td>263100</td>\n",
       "      <td>264100</td>\n",
       "      <td>265400</td>\n",
       "      <td>266400</td>\n",
       "    </tr>\n",
       "    <tr>\n",
       "      <td>66</td>\n",
       "      <td>78704</td>\n",
       "      <td>Austin</td>\n",
       "      <td>TX</td>\n",
       "      <td>Austin</td>\n",
       "      <td>Travis</td>\n",
       "      <td>221300.0</td>\n",
       "      <td>221100.0</td>\n",
       "      <td>221000.0</td>\n",
       "      <td>221000.0</td>\n",
       "      <td>221300.0</td>\n",
       "      <td>...</td>\n",
       "      <td>530100</td>\n",
       "      <td>532400</td>\n",
       "      <td>534200</td>\n",
       "      <td>536200</td>\n",
       "      <td>538200</td>\n",
       "      <td>539800</td>\n",
       "      <td>540200</td>\n",
       "      <td>542300</td>\n",
       "      <td>547100</td>\n",
       "      <td>550900</td>\n",
       "    </tr>\n",
       "    <tr>\n",
       "      <td>98</td>\n",
       "      <td>78745</td>\n",
       "      <td>Austin</td>\n",
       "      <td>TX</td>\n",
       "      <td>Austin</td>\n",
       "      <td>Travis</td>\n",
       "      <td>135000.0</td>\n",
       "      <td>134200.0</td>\n",
       "      <td>133800.0</td>\n",
       "      <td>133800.0</td>\n",
       "      <td>134000.0</td>\n",
       "      <td>...</td>\n",
       "      <td>286300</td>\n",
       "      <td>286900</td>\n",
       "      <td>287500</td>\n",
       "      <td>288700</td>\n",
       "      <td>289800</td>\n",
       "      <td>290500</td>\n",
       "      <td>291300</td>\n",
       "      <td>292600</td>\n",
       "      <td>294000</td>\n",
       "      <td>294700</td>\n",
       "    </tr>\n",
       "    <tr>\n",
       "      <td>172</td>\n",
       "      <td>27610</td>\n",
       "      <td>Raleigh</td>\n",
       "      <td>NC</td>\n",
       "      <td>Raleigh</td>\n",
       "      <td>Wake</td>\n",
       "      <td>113000.0</td>\n",
       "      <td>111700.0</td>\n",
       "      <td>110400.0</td>\n",
       "      <td>109400.0</td>\n",
       "      <td>108700.0</td>\n",
       "      <td>...</td>\n",
       "      <td>156500</td>\n",
       "      <td>158000</td>\n",
       "      <td>159500</td>\n",
       "      <td>161000</td>\n",
       "      <td>162200</td>\n",
       "      <td>163200</td>\n",
       "      <td>164200</td>\n",
       "      <td>165600</td>\n",
       "      <td>167500</td>\n",
       "      <td>168800</td>\n",
       "    </tr>\n",
       "    <tr>\n",
       "      <td>227</td>\n",
       "      <td>30331</td>\n",
       "      <td>Atlanta</td>\n",
       "      <td>GA</td>\n",
       "      <td>Atlanta</td>\n",
       "      <td>Fulton</td>\n",
       "      <td>97100.0</td>\n",
       "      <td>97700.0</td>\n",
       "      <td>98400.0</td>\n",
       "      <td>99100.0</td>\n",
       "      <td>100000.0</td>\n",
       "      <td>...</td>\n",
       "      <td>130300</td>\n",
       "      <td>131300</td>\n",
       "      <td>132700</td>\n",
       "      <td>134000</td>\n",
       "      <td>135100</td>\n",
       "      <td>137000</td>\n",
       "      <td>139400</td>\n",
       "      <td>140800</td>\n",
       "      <td>141500</td>\n",
       "      <td>141600</td>\n",
       "    </tr>\n",
       "    <tr>\n",
       "      <td>...</td>\n",
       "      <td>...</td>\n",
       "      <td>...</td>\n",
       "      <td>...</td>\n",
       "      <td>...</td>\n",
       "      <td>...</td>\n",
       "      <td>...</td>\n",
       "      <td>...</td>\n",
       "      <td>...</td>\n",
       "      <td>...</td>\n",
       "      <td>...</td>\n",
       "      <td>...</td>\n",
       "      <td>...</td>\n",
       "      <td>...</td>\n",
       "      <td>...</td>\n",
       "      <td>...</td>\n",
       "      <td>...</td>\n",
       "      <td>...</td>\n",
       "      <td>...</td>\n",
       "      <td>...</td>\n",
       "      <td>...</td>\n",
       "      <td>...</td>\n",
       "    </tr>\n",
       "    <tr>\n",
       "      <td>10214</td>\n",
       "      <td>30363</td>\n",
       "      <td>Atlanta</td>\n",
       "      <td>GA</td>\n",
       "      <td>Atlanta</td>\n",
       "      <td>Fulton</td>\n",
       "      <td>131400.0</td>\n",
       "      <td>131700.0</td>\n",
       "      <td>132000.0</td>\n",
       "      <td>132300.0</td>\n",
       "      <td>132800.0</td>\n",
       "      <td>...</td>\n",
       "      <td>350600</td>\n",
       "      <td>350200</td>\n",
       "      <td>349700</td>\n",
       "      <td>347900</td>\n",
       "      <td>345100</td>\n",
       "      <td>343000</td>\n",
       "      <td>342100</td>\n",
       "      <td>341200</td>\n",
       "      <td>340900</td>\n",
       "      <td>340300</td>\n",
       "    </tr>\n",
       "    <tr>\n",
       "      <td>11912</td>\n",
       "      <td>43324</td>\n",
       "      <td>Huntsville</td>\n",
       "      <td>OH</td>\n",
       "      <td>Bellefontaine</td>\n",
       "      <td>Logan</td>\n",
       "      <td>91200.0</td>\n",
       "      <td>91900.0</td>\n",
       "      <td>92600.0</td>\n",
       "      <td>93400.0</td>\n",
       "      <td>94100.0</td>\n",
       "      <td>...</td>\n",
       "      <td>189300</td>\n",
       "      <td>190600</td>\n",
       "      <td>192500</td>\n",
       "      <td>193700</td>\n",
       "      <td>194200</td>\n",
       "      <td>195500</td>\n",
       "      <td>196800</td>\n",
       "      <td>198200</td>\n",
       "      <td>200900</td>\n",
       "      <td>203800</td>\n",
       "    </tr>\n",
       "    <tr>\n",
       "      <td>12887</td>\n",
       "      <td>65259</td>\n",
       "      <td>Huntsville</td>\n",
       "      <td>MO</td>\n",
       "      <td>Moberly</td>\n",
       "      <td>Randolph</td>\n",
       "      <td>NaN</td>\n",
       "      <td>NaN</td>\n",
       "      <td>NaN</td>\n",
       "      <td>NaN</td>\n",
       "      <td>NaN</td>\n",
       "      <td>...</td>\n",
       "      <td>110600</td>\n",
       "      <td>112500</td>\n",
       "      <td>113200</td>\n",
       "      <td>111000</td>\n",
       "      <td>106900</td>\n",
       "      <td>104100</td>\n",
       "      <td>102800</td>\n",
       "      <td>102400</td>\n",
       "      <td>104100</td>\n",
       "      <td>106800</td>\n",
       "    </tr>\n",
       "    <tr>\n",
       "      <td>13256</td>\n",
       "      <td>61723</td>\n",
       "      <td>Atlanta</td>\n",
       "      <td>IL</td>\n",
       "      <td>Lincoln</td>\n",
       "      <td>Logan</td>\n",
       "      <td>41500.0</td>\n",
       "      <td>41600.0</td>\n",
       "      <td>41700.0</td>\n",
       "      <td>41700.0</td>\n",
       "      <td>41800.0</td>\n",
       "      <td>...</td>\n",
       "      <td>84100</td>\n",
       "      <td>84400</td>\n",
       "      <td>85000</td>\n",
       "      <td>85700</td>\n",
       "      <td>86100</td>\n",
       "      <td>86800</td>\n",
       "      <td>87500</td>\n",
       "      <td>87600</td>\n",
       "      <td>86800</td>\n",
       "      <td>85900</td>\n",
       "    </tr>\n",
       "    <tr>\n",
       "      <td>13587</td>\n",
       "      <td>46031</td>\n",
       "      <td>Atlanta</td>\n",
       "      <td>IN</td>\n",
       "      <td>Indianapolis</td>\n",
       "      <td>Hamilton</td>\n",
       "      <td>113700.0</td>\n",
       "      <td>114800.0</td>\n",
       "      <td>115900.0</td>\n",
       "      <td>116900.0</td>\n",
       "      <td>117900.0</td>\n",
       "      <td>...</td>\n",
       "      <td>161300</td>\n",
       "      <td>160900</td>\n",
       "      <td>160200</td>\n",
       "      <td>160600</td>\n",
       "      <td>162300</td>\n",
       "      <td>165100</td>\n",
       "      <td>167700</td>\n",
       "      <td>167300</td>\n",
       "      <td>164800</td>\n",
       "      <td>162200</td>\n",
       "    </tr>\n",
       "  </tbody>\n",
       "</table>\n",
       "<p>144 rows × 270 columns</p>\n",
       "</div>"
      ],
      "text/plain": [
       "       RegionName        City State          Metro CountyName   1996-04  \\\n",
       "56          85032     Phoenix    AZ        Phoenix   Maricopa   95400.0   \n",
       "66          78704      Austin    TX         Austin     Travis  221300.0   \n",
       "98          78745      Austin    TX         Austin     Travis  135000.0   \n",
       "172         27610     Raleigh    NC        Raleigh       Wake  113000.0   \n",
       "227         30331     Atlanta    GA        Atlanta     Fulton   97100.0   \n",
       "...           ...         ...   ...            ...        ...       ...   \n",
       "10214       30363     Atlanta    GA        Atlanta     Fulton  131400.0   \n",
       "11912       43324  Huntsville    OH  Bellefontaine      Logan   91200.0   \n",
       "12887       65259  Huntsville    MO        Moberly   Randolph       NaN   \n",
       "13256       61723     Atlanta    IL        Lincoln      Logan   41500.0   \n",
       "13587       46031     Atlanta    IN   Indianapolis   Hamilton  113700.0   \n",
       "\n",
       "        1996-05   1996-06   1996-07   1996-08  ...  2017-07  2017-08  2017-09  \\\n",
       "56      95800.0   96200.0   96700.0   97200.0  ...   255000   256300   257800   \n",
       "66     221100.0  221000.0  221000.0  221300.0  ...   530100   532400   534200   \n",
       "98     134200.0  133800.0  133800.0  134000.0  ...   286300   286900   287500   \n",
       "172    111700.0  110400.0  109400.0  108700.0  ...   156500   158000   159500   \n",
       "227     97700.0   98400.0   99100.0  100000.0  ...   130300   131300   132700   \n",
       "...         ...       ...       ...       ...  ...      ...      ...      ...   \n",
       "10214  131700.0  132000.0  132300.0  132800.0  ...   350600   350200   349700   \n",
       "11912   91900.0   92600.0   93400.0   94100.0  ...   189300   190600   192500   \n",
       "12887       NaN       NaN       NaN       NaN  ...   110600   112500   113200   \n",
       "13256   41600.0   41700.0   41700.0   41800.0  ...    84100    84400    85000   \n",
       "13587  114800.0  115900.0  116900.0  117900.0  ...   161300   160900   160200   \n",
       "\n",
       "       2017-10  2017-11  2017-12  2018-01  2018-02  2018-03  2018-04  \n",
       "56      259500   260700   261900   263100   264100   265400   266400  \n",
       "66      536200   538200   539800   540200   542300   547100   550900  \n",
       "98      288700   289800   290500   291300   292600   294000   294700  \n",
       "172     161000   162200   163200   164200   165600   167500   168800  \n",
       "227     134000   135100   137000   139400   140800   141500   141600  \n",
       "...        ...      ...      ...      ...      ...      ...      ...  \n",
       "10214   347900   345100   343000   342100   341200   340900   340300  \n",
       "11912   193700   194200   195500   196800   198200   200900   203800  \n",
       "12887   111000   106900   104100   102800   102400   104100   106800  \n",
       "13256    85700    86100    86800    87500    87600    86800    85900  \n",
       "13587   160600   162300   165100   167700   167300   164800   162200  \n",
       "\n",
       "[144 rows x 270 columns]"
      ]
     },
     "execution_count": 93,
     "metadata": {},
     "output_type": "execute_result"
    }
   ],
   "source": [
    "selected"
   ]
  },
  {
   "cell_type": "code",
   "execution_count": null,
   "metadata": {},
   "outputs": [],
   "source": []
  },
  {
   "cell_type": "code",
   "execution_count": 94,
   "metadata": {},
   "outputs": [],
   "source": [
    "dfBA = df[df['Metro'] == 'Baltimore']\n",
    "dfA = df[df['Metro'] =='Atlanta']\n",
    "dfH = df[df['Metro'] =='Houston']\n",
    "dfM = df[df['Metro'] =='Miami-Fort Lauderdale']\n",
    "dfPH = df[df['Metro'] =='Philadelphia']\n",
    "dfPX = df[df['Metro'] =='Phoenix']\n",
    "dfR = df[df['Metro'] == 'Raleigh']\n",
    "dfHV = df[df['Metro'] == 'Huntsville']\n",
    "# E = [df1,df2,df3,df4,df5,df6] raleigh huntsville"
   ]
  },
  {
   "cell_type": "code",
   "execution_count": 95,
   "metadata": {},
   "outputs": [
    {
     "data": {
      "text/plain": [
       "(122, 270)"
      ]
     },
     "execution_count": 95,
     "metadata": {},
     "output_type": "execute_result"
    }
   ],
   "source": [
    "dfBA.shape"
   ]
  },
  {
   "cell_type": "code",
   "execution_count": 96,
   "metadata": {
    "scrolled": true
   },
   "outputs": [
    {
     "data": {
      "text/plain": [
       "(152, 270)"
      ]
     },
     "execution_count": 96,
     "metadata": {},
     "output_type": "execute_result"
    }
   ],
   "source": [
    "dfA.shape"
   ]
  },
  {
   "cell_type": "code",
   "execution_count": 97,
   "metadata": {},
   "outputs": [
    {
     "data": {
      "text/plain": [
       "(187, 270)"
      ]
     },
     "execution_count": 97,
     "metadata": {},
     "output_type": "execute_result"
    }
   ],
   "source": [
    "dfH.shape"
   ]
  },
  {
   "cell_type": "code",
   "execution_count": 98,
   "metadata": {},
   "outputs": [
    {
     "data": {
      "text/plain": [
       "(162, 270)"
      ]
     },
     "execution_count": 98,
     "metadata": {},
     "output_type": "execute_result"
    }
   ],
   "source": [
    "dfM.shape"
   ]
  },
  {
   "cell_type": "code",
   "execution_count": 99,
   "metadata": {},
   "outputs": [
    {
     "data": {
      "text/plain": [
       "(281, 270)"
      ]
     },
     "execution_count": 99,
     "metadata": {},
     "output_type": "execute_result"
    }
   ],
   "source": [
    "dfPH.shape"
   ]
  },
  {
   "cell_type": "code",
   "execution_count": 100,
   "metadata": {},
   "outputs": [
    {
     "data": {
      "text/plain": [
       "(126, 270)"
      ]
     },
     "execution_count": 100,
     "metadata": {},
     "output_type": "execute_result"
    }
   ],
   "source": [
    "dfPX.shape"
   ]
  },
  {
   "cell_type": "code",
   "execution_count": 101,
   "metadata": {
    "scrolled": true
   },
   "outputs": [
    {
     "data": {
      "text/plain": [
       "(43, 270)"
      ]
     },
     "execution_count": 101,
     "metadata": {},
     "output_type": "execute_result"
    }
   ],
   "source": [
    "dfR.shape"
   ]
  },
  {
   "cell_type": "code",
   "execution_count": 102,
   "metadata": {},
   "outputs": [
    {
     "data": {
      "text/plain": [
       "(24, 270)"
      ]
     },
     "execution_count": 102,
     "metadata": {},
     "output_type": "execute_result"
    }
   ],
   "source": [
    "dfHV.shape"
   ]
  },
  {
   "cell_type": "code",
   "execution_count": 103,
   "metadata": {},
   "outputs": [
    {
     "name": "stdout",
     "output_type": "stream",
     "text": [
      "[] 1\n",
      "[] 5\n",
      "[] 6\n",
      "[] 7\n"
     ]
    }
   ],
   "source": [
    "# Need to see which columns have null values\n",
    "print(dfM.columns[dfM.isna().any()].tolist(),'1')\n",
    "ATLA = dfA.columns[dfA.isna().any()].tolist()\n",
    "PHON = dfPX.columns[dfPX.isna().any()].tolist()\n",
    "BALT = dfBA.columns[dfBA.isna().any()].tolist()\n",
    "print (dfPH.columns[dfH.isna().any()].tolist(),'5')\n",
    "print(dfH.columns[dfH.isna().any()].tolist(),'6')\n",
    "print(dfR.columns[dfR.isna().any()].tolist(),'7')\n",
    "HUNT = dfHV.columns[dfHV.isna().any()].tolist()"
   ]
  },
  {
   "cell_type": "code",
   "execution_count": 104,
   "metadata": {},
   "outputs": [],
   "source": [
    "Atlanta = dfA.fillna(dfA.mean())\n",
    "Phoenix = dfPX.fillna(dfPX.mean())\n",
    "Baltimore = dfBA.fillna(dfBA.mean())\n",
    "Huntsville = dfHV.fillna(dfHV.mean())\n",
    "Houston = dfH\n",
    "Miami = dfM\n",
    "Raleigh = dfR\n",
    "Philadelphia = dfPH"
   ]
  },
  {
   "cell_type": "code",
   "execution_count": 45,
   "metadata": {},
   "outputs": [],
   "source": [
    "# EmergingCitys = pd.concat(E,axis=0)"
   ]
  },
  {
   "cell_type": "code",
   "execution_count": null,
   "metadata": {},
   "outputs": [],
   "source": []
  },
  {
   "cell_type": "code",
   "execution_count": 18,
   "metadata": {
    "scrolled": true
   },
   "outputs": [
    {
     "data": {
      "text/html": [
       "<div>\n",
       "<style scoped>\n",
       "    .dataframe tbody tr th:only-of-type {\n",
       "        vertical-align: middle;\n",
       "    }\n",
       "\n",
       "    .dataframe tbody tr th {\n",
       "        vertical-align: top;\n",
       "    }\n",
       "\n",
       "    .dataframe thead th {\n",
       "        text-align: right;\n",
       "    }\n",
       "</style>\n",
       "<table border=\"1\" class=\"dataframe\">\n",
       "  <thead>\n",
       "    <tr style=\"text-align: right;\">\n",
       "      <th></th>\n",
       "      <th>RegionID</th>\n",
       "      <th>RegionName</th>\n",
       "      <th>City</th>\n",
       "      <th>State</th>\n",
       "      <th>Metro</th>\n",
       "      <th>CountyName</th>\n",
       "      <th>SizeRank</th>\n",
       "      <th>1996-04</th>\n",
       "      <th>1996-05</th>\n",
       "      <th>1996-06</th>\n",
       "      <th>...</th>\n",
       "      <th>2017-07</th>\n",
       "      <th>2017-08</th>\n",
       "      <th>2017-09</th>\n",
       "      <th>2017-10</th>\n",
       "      <th>2017-11</th>\n",
       "      <th>2017-12</th>\n",
       "      <th>2018-01</th>\n",
       "      <th>2018-02</th>\n",
       "      <th>2018-03</th>\n",
       "      <th>2018-04</th>\n",
       "    </tr>\n",
       "  </thead>\n",
       "  <tbody>\n",
       "    <tr>\n",
       "      <td>316</td>\n",
       "      <td>66825</td>\n",
       "      <td>21215</td>\n",
       "      <td>Baltimore</td>\n",
       "      <td>MD</td>\n",
       "      <td>Baltimore</td>\n",
       "      <td>Baltimore City</td>\n",
       "      <td>317</td>\n",
       "      <td>53500.0</td>\n",
       "      <td>53500.0</td>\n",
       "      <td>53400.0</td>\n",
       "      <td>...</td>\n",
       "      <td>59400</td>\n",
       "      <td>61400</td>\n",
       "      <td>63200</td>\n",
       "      <td>64100</td>\n",
       "      <td>65100</td>\n",
       "      <td>66800</td>\n",
       "      <td>67400</td>\n",
       "      <td>69500</td>\n",
       "      <td>72900</td>\n",
       "      <td>75000</td>\n",
       "    </tr>\n",
       "    <tr>\n",
       "      <td>441</td>\n",
       "      <td>66834</td>\n",
       "      <td>21224</td>\n",
       "      <td>Baltimore</td>\n",
       "      <td>MD</td>\n",
       "      <td>Baltimore</td>\n",
       "      <td>Baltimore City</td>\n",
       "      <td>442</td>\n",
       "      <td>49600.0</td>\n",
       "      <td>49400.0</td>\n",
       "      <td>49200.0</td>\n",
       "      <td>...</td>\n",
       "      <td>156900</td>\n",
       "      <td>161000</td>\n",
       "      <td>165800</td>\n",
       "      <td>168800</td>\n",
       "      <td>171100</td>\n",
       "      <td>173800</td>\n",
       "      <td>176400</td>\n",
       "      <td>177900</td>\n",
       "      <td>177500</td>\n",
       "      <td>176600</td>\n",
       "    </tr>\n",
       "    <tr>\n",
       "      <td>605</td>\n",
       "      <td>66828</td>\n",
       "      <td>21218</td>\n",
       "      <td>Baltimore</td>\n",
       "      <td>MD</td>\n",
       "      <td>Baltimore</td>\n",
       "      <td>Baltimore City</td>\n",
       "      <td>606</td>\n",
       "      <td>44700.0</td>\n",
       "      <td>44700.0</td>\n",
       "      <td>44700.0</td>\n",
       "      <td>...</td>\n",
       "      <td>73000</td>\n",
       "      <td>74500</td>\n",
       "      <td>76400</td>\n",
       "      <td>78100</td>\n",
       "      <td>81100</td>\n",
       "      <td>84800</td>\n",
       "      <td>88200</td>\n",
       "      <td>91800</td>\n",
       "      <td>96400</td>\n",
       "      <td>99900</td>\n",
       "    </tr>\n",
       "    <tr>\n",
       "      <td>677</td>\n",
       "      <td>66816</td>\n",
       "      <td>21206</td>\n",
       "      <td>Baltimore</td>\n",
       "      <td>MD</td>\n",
       "      <td>Baltimore</td>\n",
       "      <td>Baltimore City</td>\n",
       "      <td>678</td>\n",
       "      <td>73200.0</td>\n",
       "      <td>73300.0</td>\n",
       "      <td>73500.0</td>\n",
       "      <td>...</td>\n",
       "      <td>113100</td>\n",
       "      <td>115700</td>\n",
       "      <td>118400</td>\n",
       "      <td>119800</td>\n",
       "      <td>121100</td>\n",
       "      <td>123400</td>\n",
       "      <td>126600</td>\n",
       "      <td>129600</td>\n",
       "      <td>132400</td>\n",
       "      <td>135200</td>\n",
       "    </tr>\n",
       "    <tr>\n",
       "      <td>1004</td>\n",
       "      <td>66839</td>\n",
       "      <td>21229</td>\n",
       "      <td>Baltimore</td>\n",
       "      <td>MD</td>\n",
       "      <td>Baltimore</td>\n",
       "      <td>Baltimore City</td>\n",
       "      <td>1005</td>\n",
       "      <td>56000.0</td>\n",
       "      <td>56200.0</td>\n",
       "      <td>56500.0</td>\n",
       "      <td>...</td>\n",
       "      <td>77300</td>\n",
       "      <td>80000</td>\n",
       "      <td>83000</td>\n",
       "      <td>84400</td>\n",
       "      <td>85400</td>\n",
       "      <td>86100</td>\n",
       "      <td>86500</td>\n",
       "      <td>88400</td>\n",
       "      <td>92400</td>\n",
       "      <td>95600</td>\n",
       "    </tr>\n",
       "    <tr>\n",
       "      <td>...</td>\n",
       "      <td>...</td>\n",
       "      <td>...</td>\n",
       "      <td>...</td>\n",
       "      <td>...</td>\n",
       "      <td>...</td>\n",
       "      <td>...</td>\n",
       "      <td>...</td>\n",
       "      <td>...</td>\n",
       "      <td>...</td>\n",
       "      <td>...</td>\n",
       "      <td>...</td>\n",
       "      <td>...</td>\n",
       "      <td>...</td>\n",
       "      <td>...</td>\n",
       "      <td>...</td>\n",
       "      <td>...</td>\n",
       "      <td>...</td>\n",
       "      <td>...</td>\n",
       "      <td>...</td>\n",
       "      <td>...</td>\n",
       "      <td>...</td>\n",
       "    </tr>\n",
       "    <tr>\n",
       "      <td>8218</td>\n",
       "      <td>94767</td>\n",
       "      <td>85054</td>\n",
       "      <td>Phoenix</td>\n",
       "      <td>AZ</td>\n",
       "      <td>Phoenix</td>\n",
       "      <td>Maricopa</td>\n",
       "      <td>8219</td>\n",
       "      <td>185200.0</td>\n",
       "      <td>186300.0</td>\n",
       "      <td>187200.0</td>\n",
       "      <td>...</td>\n",
       "      <td>482800</td>\n",
       "      <td>486400</td>\n",
       "      <td>489800</td>\n",
       "      <td>494000</td>\n",
       "      <td>497400</td>\n",
       "      <td>500200</td>\n",
       "      <td>502900</td>\n",
       "      <td>503900</td>\n",
       "      <td>502700</td>\n",
       "      <td>502200</td>\n",
       "    </tr>\n",
       "    <tr>\n",
       "      <td>8631</td>\n",
       "      <td>94728</td>\n",
       "      <td>85012</td>\n",
       "      <td>Phoenix</td>\n",
       "      <td>AZ</td>\n",
       "      <td>Phoenix</td>\n",
       "      <td>Maricopa</td>\n",
       "      <td>8632</td>\n",
       "      <td>157100.0</td>\n",
       "      <td>158000.0</td>\n",
       "      <td>158900.0</td>\n",
       "      <td>...</td>\n",
       "      <td>530500</td>\n",
       "      <td>531200</td>\n",
       "      <td>530000</td>\n",
       "      <td>530600</td>\n",
       "      <td>533700</td>\n",
       "      <td>535300</td>\n",
       "      <td>533300</td>\n",
       "      <td>533100</td>\n",
       "      <td>537800</td>\n",
       "      <td>542400</td>\n",
       "    </tr>\n",
       "    <tr>\n",
       "      <td>9869</td>\n",
       "      <td>94761</td>\n",
       "      <td>85045</td>\n",
       "      <td>Phoenix</td>\n",
       "      <td>AZ</td>\n",
       "      <td>Phoenix</td>\n",
       "      <td>Maricopa</td>\n",
       "      <td>9870</td>\n",
       "      <td>190700.0</td>\n",
       "      <td>191900.0</td>\n",
       "      <td>193100.0</td>\n",
       "      <td>...</td>\n",
       "      <td>368400</td>\n",
       "      <td>370200</td>\n",
       "      <td>371200</td>\n",
       "      <td>372200</td>\n",
       "      <td>372900</td>\n",
       "      <td>373400</td>\n",
       "      <td>373800</td>\n",
       "      <td>374600</td>\n",
       "      <td>376500</td>\n",
       "      <td>378600</td>\n",
       "    </tr>\n",
       "    <tr>\n",
       "      <td>9871</td>\n",
       "      <td>66791</td>\n",
       "      <td>21131</td>\n",
       "      <td>Phoenix</td>\n",
       "      <td>MD</td>\n",
       "      <td>Baltimore</td>\n",
       "      <td>Baltimore</td>\n",
       "      <td>9872</td>\n",
       "      <td>278600.0</td>\n",
       "      <td>277500.0</td>\n",
       "      <td>276200.0</td>\n",
       "      <td>...</td>\n",
       "      <td>495100</td>\n",
       "      <td>497100</td>\n",
       "      <td>500400</td>\n",
       "      <td>502100</td>\n",
       "      <td>504000</td>\n",
       "      <td>505500</td>\n",
       "      <td>508200</td>\n",
       "      <td>510800</td>\n",
       "      <td>514000</td>\n",
       "      <td>515400</td>\n",
       "    </tr>\n",
       "    <tr>\n",
       "      <td>10040</td>\n",
       "      <td>99355</td>\n",
       "      <td>97535</td>\n",
       "      <td>Phoenix</td>\n",
       "      <td>OR</td>\n",
       "      <td>Medford</td>\n",
       "      <td>Jackson</td>\n",
       "      <td>10041</td>\n",
       "      <td>113600.0</td>\n",
       "      <td>113500.0</td>\n",
       "      <td>113400.0</td>\n",
       "      <td>...</td>\n",
       "      <td>251400</td>\n",
       "      <td>253500</td>\n",
       "      <td>253900</td>\n",
       "      <td>254100</td>\n",
       "      <td>255300</td>\n",
       "      <td>257700</td>\n",
       "      <td>260000</td>\n",
       "      <td>262400</td>\n",
       "      <td>264800</td>\n",
       "      <td>266900</td>\n",
       "    </tr>\n",
       "  </tbody>\n",
       "</table>\n",
       "<p>188 rows × 272 columns</p>\n",
       "</div>"
      ],
      "text/plain": [
       "       RegionID  RegionName       City State      Metro      CountyName  \\\n",
       "316       66825       21215  Baltimore    MD  Baltimore  Baltimore City   \n",
       "441       66834       21224  Baltimore    MD  Baltimore  Baltimore City   \n",
       "605       66828       21218  Baltimore    MD  Baltimore  Baltimore City   \n",
       "677       66816       21206  Baltimore    MD  Baltimore  Baltimore City   \n",
       "1004      66839       21229  Baltimore    MD  Baltimore  Baltimore City   \n",
       "...         ...         ...        ...   ...        ...             ...   \n",
       "8218      94767       85054    Phoenix    AZ    Phoenix        Maricopa   \n",
       "8631      94728       85012    Phoenix    AZ    Phoenix        Maricopa   \n",
       "9869      94761       85045    Phoenix    AZ    Phoenix        Maricopa   \n",
       "9871      66791       21131    Phoenix    MD  Baltimore       Baltimore   \n",
       "10040     99355       97535    Phoenix    OR    Medford         Jackson   \n",
       "\n",
       "       SizeRank   1996-04   1996-05   1996-06  ...  2017-07  2017-08  2017-09  \\\n",
       "316         317   53500.0   53500.0   53400.0  ...    59400    61400    63200   \n",
       "441         442   49600.0   49400.0   49200.0  ...   156900   161000   165800   \n",
       "605         606   44700.0   44700.0   44700.0  ...    73000    74500    76400   \n",
       "677         678   73200.0   73300.0   73500.0  ...   113100   115700   118400   \n",
       "1004       1005   56000.0   56200.0   56500.0  ...    77300    80000    83000   \n",
       "...         ...       ...       ...       ...  ...      ...      ...      ...   \n",
       "8218       8219  185200.0  186300.0  187200.0  ...   482800   486400   489800   \n",
       "8631       8632  157100.0  158000.0  158900.0  ...   530500   531200   530000   \n",
       "9869       9870  190700.0  191900.0  193100.0  ...   368400   370200   371200   \n",
       "9871       9872  278600.0  277500.0  276200.0  ...   495100   497100   500400   \n",
       "10040     10041  113600.0  113500.0  113400.0  ...   251400   253500   253900   \n",
       "\n",
       "       2017-10  2017-11  2017-12  2018-01  2018-02  2018-03  2018-04  \n",
       "316      64100    65100    66800    67400    69500    72900    75000  \n",
       "441     168800   171100   173800   176400   177900   177500   176600  \n",
       "605      78100    81100    84800    88200    91800    96400    99900  \n",
       "677     119800   121100   123400   126600   129600   132400   135200  \n",
       "1004     84400    85400    86100    86500    88400    92400    95600  \n",
       "...        ...      ...      ...      ...      ...      ...      ...  \n",
       "8218    494000   497400   500200   502900   503900   502700   502200  \n",
       "8631    530600   533700   535300   533300   533100   537800   542400  \n",
       "9869    372200   372900   373400   373800   374600   376500   378600  \n",
       "9871    502100   504000   505500   508200   510800   514000   515400  \n",
       "10040   254100   255300   257700   260000   262400   264800   266900  \n",
       "\n",
       "[188 rows x 272 columns]"
      ]
     },
     "execution_count": 18,
     "metadata": {},
     "output_type": "execute_result"
    }
   ],
   "source": [
    "# EmergingCitys"
   ]
  },
  {
   "cell_type": "code",
   "execution_count": 59,
   "metadata": {},
   "outputs": [
    {
     "name": "stderr",
     "output_type": "stream",
     "text": [
      "/Users/andrewghan/anaconda3/lib/python3.7/site-packages/ipykernel_launcher.py:1: SettingWithCopyWarning: \n",
      "A value is trying to be set on a copy of a slice from a DataFrame\n",
      "\n",
      "See the caveats in the documentation: http://pandas.pydata.org/pandas-docs/stable/user_guide/indexing.html#returning-a-view-versus-a-copy\n",
      "  \"\"\"Entry point for launching an IPython kernel.\n",
      "/Users/andrewghan/anaconda3/lib/python3.7/site-packages/ipykernel_launcher.py:2: SettingWithCopyWarning: \n",
      "A value is trying to be set on a copy of a slice from a DataFrame\n",
      "\n",
      "See the caveats in the documentation: http://pandas.pydata.org/pandas-docs/stable/user_guide/indexing.html#returning-a-view-versus-a-copy\n",
      "  \n",
      "/Users/andrewghan/anaconda3/lib/python3.7/site-packages/ipykernel_launcher.py:3: SettingWithCopyWarning: \n",
      "A value is trying to be set on a copy of a slice from a DataFrame\n",
      "\n",
      "See the caveats in the documentation: http://pandas.pydata.org/pandas-docs/stable/user_guide/indexing.html#returning-a-view-versus-a-copy\n",
      "  This is separate from the ipykernel package so we can avoid doing imports until\n",
      "/Users/andrewghan/anaconda3/lib/python3.7/site-packages/ipykernel_launcher.py:4: SettingWithCopyWarning: \n",
      "A value is trying to be set on a copy of a slice from a DataFrame\n",
      "\n",
      "See the caveats in the documentation: http://pandas.pydata.org/pandas-docs/stable/user_guide/indexing.html#returning-a-view-versus-a-copy\n",
      "  after removing the cwd from sys.path.\n",
      "/Users/andrewghan/anaconda3/lib/python3.7/site-packages/ipykernel_launcher.py:5: SettingWithCopyWarning: \n",
      "A value is trying to be set on a copy of a slice from a DataFrame\n",
      "\n",
      "See the caveats in the documentation: http://pandas.pydata.org/pandas-docs/stable/user_guide/indexing.html#returning-a-view-versus-a-copy\n",
      "  \"\"\"\n",
      "/Users/andrewghan/anaconda3/lib/python3.7/site-packages/ipykernel_launcher.py:6: SettingWithCopyWarning: \n",
      "A value is trying to be set on a copy of a slice from a DataFrame\n",
      "\n",
      "See the caveats in the documentation: http://pandas.pydata.org/pandas-docs/stable/user_guide/indexing.html#returning-a-view-versus-a-copy\n",
      "  \n",
      "/Users/andrewghan/anaconda3/lib/python3.7/site-packages/ipykernel_launcher.py:7: SettingWithCopyWarning: \n",
      "A value is trying to be set on a copy of a slice from a DataFrame\n",
      "\n",
      "See the caveats in the documentation: http://pandas.pydata.org/pandas-docs/stable/user_guide/indexing.html#returning-a-view-versus-a-copy\n",
      "  import sys\n",
      "/Users/andrewghan/anaconda3/lib/python3.7/site-packages/ipykernel_launcher.py:8: SettingWithCopyWarning: \n",
      "A value is trying to be set on a copy of a slice from a DataFrame\n",
      "\n",
      "See the caveats in the documentation: http://pandas.pydata.org/pandas-docs/stable/user_guide/indexing.html#returning-a-view-versus-a-copy\n",
      "  \n"
     ]
    }
   ],
   "source": [
    "# dfBA.dropna(inplace=True)\n",
    "# dfA.dropna(inplace=True)\n",
    "# dfH.dropna(inplace=True)\n",
    "# dfM.dropna(inplace=True)\n",
    "# dfPH.dropna(inplace=True)\n",
    "# dfPX.dropna(inplace=True)\n",
    "# dfR.dropna(inplace=True)\n",
    "# dfHV.dropna(inplace=True)"
   ]
  },
  {
   "cell_type": "code",
   "execution_count": 19,
   "metadata": {},
   "outputs": [],
   "source": [
    "# EmergingCitys.drop(columns= 'RegionID',inplace=True)\n",
    "# EmergingCitys.drop(columns= 'SizeRank',inplace=True)"
   ]
  },
  {
   "cell_type": "code",
   "execution_count": 20,
   "metadata": {
    "scrolled": true
   },
   "outputs": [
    {
     "data": {
      "text/html": [
       "<div>\n",
       "<style scoped>\n",
       "    .dataframe tbody tr th:only-of-type {\n",
       "        vertical-align: middle;\n",
       "    }\n",
       "\n",
       "    .dataframe tbody tr th {\n",
       "        vertical-align: top;\n",
       "    }\n",
       "\n",
       "    .dataframe thead th {\n",
       "        text-align: right;\n",
       "    }\n",
       "</style>\n",
       "<table border=\"1\" class=\"dataframe\">\n",
       "  <thead>\n",
       "    <tr style=\"text-align: right;\">\n",
       "      <th></th>\n",
       "      <th>RegionName</th>\n",
       "      <th>City</th>\n",
       "      <th>State</th>\n",
       "      <th>Metro</th>\n",
       "      <th>CountyName</th>\n",
       "      <th>1996-04</th>\n",
       "      <th>1996-05</th>\n",
       "      <th>1996-06</th>\n",
       "      <th>1996-07</th>\n",
       "      <th>1996-08</th>\n",
       "      <th>...</th>\n",
       "      <th>2017-07</th>\n",
       "      <th>2017-08</th>\n",
       "      <th>2017-09</th>\n",
       "      <th>2017-10</th>\n",
       "      <th>2017-11</th>\n",
       "      <th>2017-12</th>\n",
       "      <th>2018-01</th>\n",
       "      <th>2018-02</th>\n",
       "      <th>2018-03</th>\n",
       "      <th>2018-04</th>\n",
       "    </tr>\n",
       "  </thead>\n",
       "  <tbody>\n",
       "    <tr>\n",
       "      <td>316</td>\n",
       "      <td>21215</td>\n",
       "      <td>Baltimore</td>\n",
       "      <td>MD</td>\n",
       "      <td>Baltimore</td>\n",
       "      <td>Baltimore City</td>\n",
       "      <td>53500.0</td>\n",
       "      <td>53500.0</td>\n",
       "      <td>53400.0</td>\n",
       "      <td>53300.0</td>\n",
       "      <td>53300.0</td>\n",
       "      <td>...</td>\n",
       "      <td>59400</td>\n",
       "      <td>61400</td>\n",
       "      <td>63200</td>\n",
       "      <td>64100</td>\n",
       "      <td>65100</td>\n",
       "      <td>66800</td>\n",
       "      <td>67400</td>\n",
       "      <td>69500</td>\n",
       "      <td>72900</td>\n",
       "      <td>75000</td>\n",
       "    </tr>\n",
       "    <tr>\n",
       "      <td>441</td>\n",
       "      <td>21224</td>\n",
       "      <td>Baltimore</td>\n",
       "      <td>MD</td>\n",
       "      <td>Baltimore</td>\n",
       "      <td>Baltimore City</td>\n",
       "      <td>49600.0</td>\n",
       "      <td>49400.0</td>\n",
       "      <td>49200.0</td>\n",
       "      <td>48900.0</td>\n",
       "      <td>48600.0</td>\n",
       "      <td>...</td>\n",
       "      <td>156900</td>\n",
       "      <td>161000</td>\n",
       "      <td>165800</td>\n",
       "      <td>168800</td>\n",
       "      <td>171100</td>\n",
       "      <td>173800</td>\n",
       "      <td>176400</td>\n",
       "      <td>177900</td>\n",
       "      <td>177500</td>\n",
       "      <td>176600</td>\n",
       "    </tr>\n",
       "    <tr>\n",
       "      <td>605</td>\n",
       "      <td>21218</td>\n",
       "      <td>Baltimore</td>\n",
       "      <td>MD</td>\n",
       "      <td>Baltimore</td>\n",
       "      <td>Baltimore City</td>\n",
       "      <td>44700.0</td>\n",
       "      <td>44700.0</td>\n",
       "      <td>44700.0</td>\n",
       "      <td>44700.0</td>\n",
       "      <td>44700.0</td>\n",
       "      <td>...</td>\n",
       "      <td>73000</td>\n",
       "      <td>74500</td>\n",
       "      <td>76400</td>\n",
       "      <td>78100</td>\n",
       "      <td>81100</td>\n",
       "      <td>84800</td>\n",
       "      <td>88200</td>\n",
       "      <td>91800</td>\n",
       "      <td>96400</td>\n",
       "      <td>99900</td>\n",
       "    </tr>\n",
       "    <tr>\n",
       "      <td>677</td>\n",
       "      <td>21206</td>\n",
       "      <td>Baltimore</td>\n",
       "      <td>MD</td>\n",
       "      <td>Baltimore</td>\n",
       "      <td>Baltimore City</td>\n",
       "      <td>73200.0</td>\n",
       "      <td>73300.0</td>\n",
       "      <td>73500.0</td>\n",
       "      <td>73600.0</td>\n",
       "      <td>73700.0</td>\n",
       "      <td>...</td>\n",
       "      <td>113100</td>\n",
       "      <td>115700</td>\n",
       "      <td>118400</td>\n",
       "      <td>119800</td>\n",
       "      <td>121100</td>\n",
       "      <td>123400</td>\n",
       "      <td>126600</td>\n",
       "      <td>129600</td>\n",
       "      <td>132400</td>\n",
       "      <td>135200</td>\n",
       "    </tr>\n",
       "    <tr>\n",
       "      <td>1004</td>\n",
       "      <td>21229</td>\n",
       "      <td>Baltimore</td>\n",
       "      <td>MD</td>\n",
       "      <td>Baltimore</td>\n",
       "      <td>Baltimore City</td>\n",
       "      <td>56000.0</td>\n",
       "      <td>56200.0</td>\n",
       "      <td>56500.0</td>\n",
       "      <td>56900.0</td>\n",
       "      <td>57300.0</td>\n",
       "      <td>...</td>\n",
       "      <td>77300</td>\n",
       "      <td>80000</td>\n",
       "      <td>83000</td>\n",
       "      <td>84400</td>\n",
       "      <td>85400</td>\n",
       "      <td>86100</td>\n",
       "      <td>86500</td>\n",
       "      <td>88400</td>\n",
       "      <td>92400</td>\n",
       "      <td>95600</td>\n",
       "    </tr>\n",
       "    <tr>\n",
       "      <td>...</td>\n",
       "      <td>...</td>\n",
       "      <td>...</td>\n",
       "      <td>...</td>\n",
       "      <td>...</td>\n",
       "      <td>...</td>\n",
       "      <td>...</td>\n",
       "      <td>...</td>\n",
       "      <td>...</td>\n",
       "      <td>...</td>\n",
       "      <td>...</td>\n",
       "      <td>...</td>\n",
       "      <td>...</td>\n",
       "      <td>...</td>\n",
       "      <td>...</td>\n",
       "      <td>...</td>\n",
       "      <td>...</td>\n",
       "      <td>...</td>\n",
       "      <td>...</td>\n",
       "      <td>...</td>\n",
       "      <td>...</td>\n",
       "      <td>...</td>\n",
       "    </tr>\n",
       "    <tr>\n",
       "      <td>8218</td>\n",
       "      <td>85054</td>\n",
       "      <td>Phoenix</td>\n",
       "      <td>AZ</td>\n",
       "      <td>Phoenix</td>\n",
       "      <td>Maricopa</td>\n",
       "      <td>185200.0</td>\n",
       "      <td>186300.0</td>\n",
       "      <td>187200.0</td>\n",
       "      <td>188200.0</td>\n",
       "      <td>189200.0</td>\n",
       "      <td>...</td>\n",
       "      <td>482800</td>\n",
       "      <td>486400</td>\n",
       "      <td>489800</td>\n",
       "      <td>494000</td>\n",
       "      <td>497400</td>\n",
       "      <td>500200</td>\n",
       "      <td>502900</td>\n",
       "      <td>503900</td>\n",
       "      <td>502700</td>\n",
       "      <td>502200</td>\n",
       "    </tr>\n",
       "    <tr>\n",
       "      <td>8631</td>\n",
       "      <td>85012</td>\n",
       "      <td>Phoenix</td>\n",
       "      <td>AZ</td>\n",
       "      <td>Phoenix</td>\n",
       "      <td>Maricopa</td>\n",
       "      <td>157100.0</td>\n",
       "      <td>158000.0</td>\n",
       "      <td>158900.0</td>\n",
       "      <td>159700.0</td>\n",
       "      <td>160500.0</td>\n",
       "      <td>...</td>\n",
       "      <td>530500</td>\n",
       "      <td>531200</td>\n",
       "      <td>530000</td>\n",
       "      <td>530600</td>\n",
       "      <td>533700</td>\n",
       "      <td>535300</td>\n",
       "      <td>533300</td>\n",
       "      <td>533100</td>\n",
       "      <td>537800</td>\n",
       "      <td>542400</td>\n",
       "    </tr>\n",
       "    <tr>\n",
       "      <td>9869</td>\n",
       "      <td>85045</td>\n",
       "      <td>Phoenix</td>\n",
       "      <td>AZ</td>\n",
       "      <td>Phoenix</td>\n",
       "      <td>Maricopa</td>\n",
       "      <td>190700.0</td>\n",
       "      <td>191900.0</td>\n",
       "      <td>193100.0</td>\n",
       "      <td>194300.0</td>\n",
       "      <td>195400.0</td>\n",
       "      <td>...</td>\n",
       "      <td>368400</td>\n",
       "      <td>370200</td>\n",
       "      <td>371200</td>\n",
       "      <td>372200</td>\n",
       "      <td>372900</td>\n",
       "      <td>373400</td>\n",
       "      <td>373800</td>\n",
       "      <td>374600</td>\n",
       "      <td>376500</td>\n",
       "      <td>378600</td>\n",
       "    </tr>\n",
       "    <tr>\n",
       "      <td>9871</td>\n",
       "      <td>21131</td>\n",
       "      <td>Phoenix</td>\n",
       "      <td>MD</td>\n",
       "      <td>Baltimore</td>\n",
       "      <td>Baltimore</td>\n",
       "      <td>278600.0</td>\n",
       "      <td>277500.0</td>\n",
       "      <td>276200.0</td>\n",
       "      <td>274800.0</td>\n",
       "      <td>273400.0</td>\n",
       "      <td>...</td>\n",
       "      <td>495100</td>\n",
       "      <td>497100</td>\n",
       "      <td>500400</td>\n",
       "      <td>502100</td>\n",
       "      <td>504000</td>\n",
       "      <td>505500</td>\n",
       "      <td>508200</td>\n",
       "      <td>510800</td>\n",
       "      <td>514000</td>\n",
       "      <td>515400</td>\n",
       "    </tr>\n",
       "    <tr>\n",
       "      <td>10040</td>\n",
       "      <td>97535</td>\n",
       "      <td>Phoenix</td>\n",
       "      <td>OR</td>\n",
       "      <td>Medford</td>\n",
       "      <td>Jackson</td>\n",
       "      <td>113600.0</td>\n",
       "      <td>113500.0</td>\n",
       "      <td>113400.0</td>\n",
       "      <td>113200.0</td>\n",
       "      <td>113000.0</td>\n",
       "      <td>...</td>\n",
       "      <td>251400</td>\n",
       "      <td>253500</td>\n",
       "      <td>253900</td>\n",
       "      <td>254100</td>\n",
       "      <td>255300</td>\n",
       "      <td>257700</td>\n",
       "      <td>260000</td>\n",
       "      <td>262400</td>\n",
       "      <td>264800</td>\n",
       "      <td>266900</td>\n",
       "    </tr>\n",
       "  </tbody>\n",
       "</table>\n",
       "<p>188 rows × 270 columns</p>\n",
       "</div>"
      ],
      "text/plain": [
       "       RegionName       City State      Metro      CountyName   1996-04  \\\n",
       "316         21215  Baltimore    MD  Baltimore  Baltimore City   53500.0   \n",
       "441         21224  Baltimore    MD  Baltimore  Baltimore City   49600.0   \n",
       "605         21218  Baltimore    MD  Baltimore  Baltimore City   44700.0   \n",
       "677         21206  Baltimore    MD  Baltimore  Baltimore City   73200.0   \n",
       "1004        21229  Baltimore    MD  Baltimore  Baltimore City   56000.0   \n",
       "...           ...        ...   ...        ...             ...       ...   \n",
       "8218        85054    Phoenix    AZ    Phoenix        Maricopa  185200.0   \n",
       "8631        85012    Phoenix    AZ    Phoenix        Maricopa  157100.0   \n",
       "9869        85045    Phoenix    AZ    Phoenix        Maricopa  190700.0   \n",
       "9871        21131    Phoenix    MD  Baltimore       Baltimore  278600.0   \n",
       "10040       97535    Phoenix    OR    Medford         Jackson  113600.0   \n",
       "\n",
       "        1996-05   1996-06   1996-07   1996-08  ...  2017-07  2017-08  2017-09  \\\n",
       "316     53500.0   53400.0   53300.0   53300.0  ...    59400    61400    63200   \n",
       "441     49400.0   49200.0   48900.0   48600.0  ...   156900   161000   165800   \n",
       "605     44700.0   44700.0   44700.0   44700.0  ...    73000    74500    76400   \n",
       "677     73300.0   73500.0   73600.0   73700.0  ...   113100   115700   118400   \n",
       "1004    56200.0   56500.0   56900.0   57300.0  ...    77300    80000    83000   \n",
       "...         ...       ...       ...       ...  ...      ...      ...      ...   \n",
       "8218   186300.0  187200.0  188200.0  189200.0  ...   482800   486400   489800   \n",
       "8631   158000.0  158900.0  159700.0  160500.0  ...   530500   531200   530000   \n",
       "9869   191900.0  193100.0  194300.0  195400.0  ...   368400   370200   371200   \n",
       "9871   277500.0  276200.0  274800.0  273400.0  ...   495100   497100   500400   \n",
       "10040  113500.0  113400.0  113200.0  113000.0  ...   251400   253500   253900   \n",
       "\n",
       "       2017-10  2017-11  2017-12  2018-01  2018-02  2018-03  2018-04  \n",
       "316      64100    65100    66800    67400    69500    72900    75000  \n",
       "441     168800   171100   173800   176400   177900   177500   176600  \n",
       "605      78100    81100    84800    88200    91800    96400    99900  \n",
       "677     119800   121100   123400   126600   129600   132400   135200  \n",
       "1004     84400    85400    86100    86500    88400    92400    95600  \n",
       "...        ...      ...      ...      ...      ...      ...      ...  \n",
       "8218    494000   497400   500200   502900   503900   502700   502200  \n",
       "8631    530600   533700   535300   533300   533100   537800   542400  \n",
       "9869    372200   372900   373400   373800   374600   376500   378600  \n",
       "9871    502100   504000   505500   508200   510800   514000   515400  \n",
       "10040   254100   255300   257700   260000   262400   264800   266900  \n",
       "\n",
       "[188 rows x 270 columns]"
      ]
     },
     "execution_count": 20,
     "metadata": {},
     "output_type": "execute_result"
    }
   ],
   "source": [
    "EmergingCitys"
   ]
  },
  {
   "cell_type": "markdown",
   "metadata": {},
   "source": [
    "# Step 3: EDA and Visualization"
   ]
  },
  {
   "cell_type": "code",
   "execution_count": 13,
   "metadata": {},
   "outputs": [],
   "source": [
    "font = {'family' : 'normal',\n",
    "        'weight' : 'bold',\n",
    "        'size'   : 22}\n",
    "\n",
    "matplotlib.rc('font', **font)\n",
    "\n",
    "# NOTE: if you visualizations are too cluttered to read, try calling 'plt.gcf().autofmt_xdate()'!"
   ]
  },
  {
   "cell_type": "code",
   "execution_count": null,
   "metadata": {},
   "outputs": [],
   "source": []
  },
  {
   "cell_type": "code",
   "execution_count": null,
   "metadata": {},
   "outputs": [],
   "source": []
  },
  {
   "cell_type": "code",
   "execution_count": null,
   "metadata": {},
   "outputs": [],
   "source": []
  },
  {
   "cell_type": "markdown",
   "metadata": {},
   "source": [
    "# Step 4: Reshape from Wide to Long Format"
   ]
  },
  {
   "cell_type": "code",
   "execution_count": 105,
   "metadata": {},
   "outputs": [],
   "source": [
    "def melt_data(df):\n",
    "    melted = pd.melt(df, id_vars=['RegionName', 'City', 'State', 'Metro', 'CountyName'], var_name='time')\n",
    "    melted['time'] = pd.to_datetime(melted['time'], infer_datetime_format=True)\n",
    "    melted = melted.dropna(subset=['value'])\n",
    "    return melted.groupby('time').aggregate({'value':'mean'})"
   ]
  },
  {
   "cell_type": "code",
   "execution_count": 107,
   "metadata": {},
   "outputs": [],
   "source": [
    "MAtlanta= melt_data(Atlanta)  \n",
    "MPhoenix= melt_data(Phoenix)\n",
    "MBaltimore= melt_data(Baltimore)\n",
    "MHuntsville= melt_data(Huntsville)\n",
    "MHouston= melt_data(Houston) \n",
    "MMiami= melt_data(Miami)\n",
    "MRaleigh= melt_data(Raleigh) \n",
    "MPhiladelphia= melt_data(Philadelphia)"
   ]
  },
  {
   "cell_type": "code",
   "execution_count": 133,
   "metadata": {},
   "outputs": [
    {
     "data": {
      "image/png": "[encoded data removed]",
      "text/plain": [
       "<Figure size 432x288 with 1 Axes>"
      ]
     },
     "metadata": {
      "needs_background": "light"
     },
     "output_type": "display_data"
    }
   ],
   "source": [
    "MAtlanta.plot()\n",
    "pyplot.show()"
   ]
  },
  {
   "cell_type": "code",
   "execution_count": 114,
   "metadata": {},
   "outputs": [
    {
     "data": {
      "image/png": "[encoded data removed]",
      "text/plain": [
       "<Figure size 432x288 with 1 Axes>"
      ]
     },
     "metadata": {
      "needs_background": "light"
     },
     "output_type": "display_data"
    }
   ],
   "source": [
    "autocorrelation_plot(MAtlanta)\n",
    "pyplot.show()"
   ]
  },
  {
   "cell_type": "code",
   "execution_count": 134,
   "metadata": {},
   "outputs": [
    {
     "data": {
      "image/png": "[encoded data removed]",
      "text/plain": [
       "<Figure size 432x288 with 1 Axes>"
      ]
     },
     "metadata": {
      "needs_background": "light"
     },
     "output_type": "display_data"
    }
   ],
   "source": [
    "MPhoenix.plot()\n",
    "pyplot.show()"
   ]
  },
  {
   "cell_type": "code",
   "execution_count": 115,
   "metadata": {},
   "outputs": [
    {
     "data": {
      "image/png": "[encoded data removed]",
      "text/plain": [
       "<Figure size 432x288 with 1 Axes>"
      ]
     },
     "metadata": {
      "needs_background": "light"
     },
     "output_type": "display_data"
    }
   ],
   "source": [
    "autocorrelation_plot(MPhoenix)\n",
    "pyplot.show()"
   ]
  },
  {
   "cell_type": "code",
   "execution_count": 135,
   "metadata": {},
   "outputs": [
    {
     "data": {
      "image/png": "[encoded data removed]",
      "text/plain": [
       "<Figure size 432x288 with 1 Axes>"
      ]
     },
     "metadata": {
      "needs_background": "light"
     },
     "output_type": "display_data"
    }
   ],
   "source": [
    "MBaltimore.plot()\n",
    "pyplot.show()"
   ]
  },
  {
   "cell_type": "code",
   "execution_count": 113,
   "metadata": {},
   "outputs": [
    {
     "data": {
      "image/png": "[encoded data removed]",
      "text/plain": [
       "<Figure size 432x288 with 1 Axes>"
      ]
     },
     "metadata": {
      "needs_background": "light"
     },
     "output_type": "display_data"
    }
   ],
   "source": [
    "autocorrelation_plot(MBaltimore)\n",
    "pyplot.show()"
   ]
  },
  {
   "cell_type": "code",
   "execution_count": 136,
   "metadata": {},
   "outputs": [
    {
     "data": {
      "image/png": "[encoded data removed]",
      "text/plain": [
       "<Figure size 432x288 with 1 Axes>"
      ]
     },
     "metadata": {
      "needs_background": "light"
     },
     "output_type": "display_data"
    }
   ],
   "source": [
    "MHuntsville.plot()\n",
    "pyplot.show()"
   ]
  },
  {
   "cell_type": "code",
   "execution_count": 116,
   "metadata": {},
   "outputs": [
    {
     "data": {
      "image/png": "[encoded data removed]",
      "text/plain": [
       "<Figure size 432x288 with 1 Axes>"
      ]
     },
     "metadata": {
      "needs_background": "light"
     },
     "output_type": "display_data"
    }
   ],
   "source": [
    "autocorrelation_plot(MHuntsville)\n",
    "pyplot.show()"
   ]
  },
  {
   "cell_type": "code",
   "execution_count": 137,
   "metadata": {},
   "outputs": [
    {
     "data": {
      "image/png": "[encoded data removed]",
      "text/plain": [
       "<Figure size 432x288 with 1 Axes>"
      ]
     },
     "metadata": {
      "needs_background": "light"
     },
     "output_type": "display_data"
    }
   ],
   "source": [
    "MHouston.plot()\n",
    "pyplot.show()"
   ]
  },
  {
   "cell_type": "code",
   "execution_count": 117,
   "metadata": {},
   "outputs": [
    {
     "data": {
      "image/png": "[encoded data removed]",
      "text/plain": [
       "<Figure size 432x288 with 1 Axes>"
      ]
     },
     "metadata": {
      "needs_background": "light"
     },
     "output_type": "display_data"
    }
   ],
   "source": [
    "autocorrelation_plot(MHouston)\n",
    "pyplot.show()"
   ]
  },
  {
   "cell_type": "code",
   "execution_count": 138,
   "metadata": {},
   "outputs": [
    {
     "data": {
      "image/png": "[encoded data removed]",
      "text/plain": [
       "<Figure size 432x288 with 1 Axes>"
      ]
     },
     "metadata": {
      "needs_background": "light"
     },
     "output_type": "display_data"
    }
   ],
   "source": [
    "MMiami.plot()\n",
    "pyplot.show()"
   ]
  },
  {
   "cell_type": "code",
   "execution_count": 118,
   "metadata": {},
   "outputs": [
    {
     "data": {
      "image/png": "[encoded data removed]",
      "text/plain": [
       "<Figure size 432x288 with 1 Axes>"
      ]
     },
     "metadata": {
      "needs_background": "light"
     },
     "output_type": "display_data"
    }
   ],
   "source": [
    "autocorrelation_plot(MMiami)\n",
    "pyplot.show()"
   ]
  },
  {
   "cell_type": "code",
   "execution_count": 139,
   "metadata": {},
   "outputs": [
    {
     "data": {
      "image/png": "[encoded data removed]",
      "text/plain": [
       "<Figure size 432x288 with 1 Axes>"
      ]
     },
     "metadata": {
      "needs_background": "light"
     },
     "output_type": "display_data"
    }
   ],
   "source": [
    "MRaleigh.plot()\n",
    "pyplot.show()"
   ]
  },
  {
   "cell_type": "code",
   "execution_count": 119,
   "metadata": {},
   "outputs": [
    {
     "data": {
      "image/png": "[encoded data removed]",
      "text/plain": [
       "<Figure size 432x288 with 1 Axes>"
      ]
     },
     "metadata": {
      "needs_background": "light"
     },
     "output_type": "display_data"
    }
   ],
   "source": [
    "autocorrelation_plot(MRaleigh)\n",
    "pyplot.show()"
   ]
  },
  {
   "cell_type": "code",
   "execution_count": 140,
   "metadata": {},
   "outputs": [
    {
     "data": {
      "image/png": "[encoded data removed]",
      "text/plain": [
       "<Figure size 432x288 with 1 Axes>"
      ]
     },
     "metadata": {
      "needs_background": "light"
     },
     "output_type": "display_data"
    }
   ],
   "source": [
    "MPhiladelphia.plot()\n",
    "pyplot.show()"
   ]
  },
  {
   "cell_type": "code",
   "execution_count": 120,
   "metadata": {
    "scrolled": false
   },
   "outputs": [
    {
     "data": {
      "image/png": "[encoded data removed]",
      "text/plain": [
       "<Figure size 432x288 with 1 Axes>"
      ]
     },
     "metadata": {
      "needs_background": "light"
     },
     "output_type": "display_data"
    }
   ],
   "source": [
    "autocorrelation_plot(MPhiladelphia)\n",
    "pyplot.show()"
   ]
  },
  {
   "cell_type": "code",
   "execution_count": 169,
   "metadata": {},
   "outputs": [
    {
     "data": {
      "text/plain": [
       "time\n",
       "1996-04-01    136675.444840\n",
       "1996-05-01    136610.320285\n",
       "1996-06-01    136524.911032\n",
       "1996-07-01    136418.505338\n",
       "1996-08-01    136317.081851\n",
       "                  ...      \n",
       "2017-12-01    277848.754448\n",
       "2018-01-01    279333.807829\n",
       "2018-02-01    280505.338078\n",
       "2018-03-01    281412.455516\n",
       "2018-04-01    281849.466192\n",
       "Name: value, Length: 265, dtype: float64"
      ]
     },
     "execution_count": 169,
     "metadata": {},
     "output_type": "execute_result"
    }
   ],
   "source": [
    "MP= MPhiladelphia['value']\n",
    "MP"
   ]
  },
  {
   "cell_type": "code",
   "execution_count": 170,
   "metadata": {},
   "outputs": [
    {
     "name": "stdout",
     "output_type": "stream",
     "text": [
      "ADF Statistic: -2.324435\n",
      "p-value: 0.164208\n",
      "Critical Values:\n",
      "\t1%: -3.457\n",
      "\t5%: -2.873\n",
      "\t10%: -2.573\n"
     ]
    }
   ],
   "source": [
    "from statsmodels.tsa.stattools import adfuller\n",
    "result = adfuller(MP)\n",
    "print('ADF Statistic: %f' % result[0])\n",
    "print('p-value: %f' % result[1])\n",
    "print('Critical Values:')\n",
    "for key, value in result[4].items():\n",
    "\tprint('\\t%s: %.3f' % (key, value))\n",
    "# Your code here"
   ]
  },
  {
   "cell_type": "code",
   "execution_count": null,
   "metadata": {},
   "outputs": [],
   "source": []
  },
  {
   "cell_type": "markdown",
   "metadata": {},
   "source": [
    "# Step 5: ARIMA Modeling"
   ]
  },
  {
   "cell_type": "code",
   "execution_count": 176,
   "metadata": {},
   "outputs": [
    {
     "name": "stdout",
     "output_type": "stream",
     "text": [
      "                             ARIMA Model Results                              \n",
      "==============================================================================\n",
      "Dep. Variable:                D.value   No. Observations:                  264\n",
      "Model:                 ARIMA(1, 1, 0)   Log Likelihood               -1773.370\n",
      "Method:                       css-mle   S.D. of innovations            198.759\n",
      "Date:                Tue, 05 May 2020   AIC                           3552.740\n",
      "Time:                        15:55:10   BIC                           3563.468\n",
      "Sample:                    05-01-1996   HQIC                          3557.051\n",
      "                         - 04-01-2018                                         \n",
      "=================================================================================\n",
      "                    coef    std err          z      P>|z|      [0.025      0.975]\n",
      "---------------------------------------------------------------------------------\n",
      "const           442.1228    565.353      0.782      0.435    -665.948    1550.194\n",
      "ar.L1.D.value     0.9817      0.010     98.120      0.000       0.962       1.001\n",
      "                                    Roots                                    \n",
      "=============================================================================\n",
      "                  Real          Imaginary           Modulus         Frequency\n",
      "-----------------------------------------------------------------------------\n",
      "AR.1            1.0186           +0.0000j            1.0186            0.0000\n",
      "-----------------------------------------------------------------------------\n"
     ]
    },
    {
     "name": "stderr",
     "output_type": "stream",
     "text": [
      "/Users/andrewghan/anaconda3/lib/python3.7/site-packages/statsmodels/tsa/base/tsa_model.py:165: ValueWarning: No frequency information was provided, so inferred frequency MS will be used.\n",
      "  % freq, ValueWarning)\n",
      "/Users/andrewghan/anaconda3/lib/python3.7/site-packages/statsmodels/tsa/base/tsa_model.py:165: ValueWarning: No frequency information was provided, so inferred frequency MS will be used.\n",
      "  % freq, ValueWarning)\n"
     ]
    },
    {
     "data": {
      "image/png": "[encoded data removed]",
      "text/plain": [
       "<Figure size 432x288 with 1 Axes>"
      ]
     },
     "metadata": {
      "needs_background": "light"
     },
     "output_type": "display_data"
    },
    {
     "data": {
      "image/png": "[encoded data removed]",
      "text/plain": [
       "<Figure size 432x288 with 1 Axes>"
      ]
     },
     "metadata": {
      "needs_background": "light"
     },
     "output_type": "display_data"
    },
    {
     "name": "stdout",
     "output_type": "stream",
     "text": [
      "                 0\n",
      "count   264.000000\n",
      "mean      1.953463\n",
      "std     201.479974\n",
      "min   -1088.553286\n",
      "25%    -108.841931\n",
      "50%       7.618393\n",
      "75%     101.832282\n",
      "max     533.684043\n"
     ]
    }
   ],
   "source": [
    "model = ARIMA(MP, order=(1,1,0))\n",
    "model_fit = model.fit(disp=0)\n",
    "print(model_fit.summary())\n",
    "# plot residual errors\n",
    "residuals = DataFrame(model_fit.resid)\n",
    "residuals.plot()\n",
    "pyplot.show()\n",
    "residuals.plot(kind='kde')\n",
    "pyplot.show()\n",
    "print(residuals.describe())"
   ]
  },
  {
   "cell_type": "code",
   "execution_count": null,
   "metadata": {},
   "outputs": [],
   "source": []
  },
  {
   "cell_type": "code",
   "execution_count": null,
   "metadata": {},
   "outputs": [],
   "source": []
  },
  {
   "cell_type": "code",
   "execution_count": null,
   "metadata": {},
   "outputs": [],
   "source": []
  },
  {
   "cell_type": "code",
   "execution_count": null,
   "metadata": {},
   "outputs": [],
   "source": []
  },
  {
   "cell_type": "code",
   "execution_count": null,
   "metadata": {},
   "outputs": [],
   "source": []
  },
  {
   "cell_type": "code",
   "execution_count": null,
   "metadata": {},
   "outputs": [],
   "source": []
  },
  {
   "cell_type": "markdown",
   "metadata": {},
   "source": [
    "# Step 6: Interpreting Results"
   ]
  },
  {
   "cell_type": "code",
   "execution_count": null,
   "metadata": {},
   "outputs": [],
   "source": []
  },
  {
   "cell_type": "code",
   "execution_count": null,
   "metadata": {},
   "outputs": [],
   "source": []
  },
  {
   "cell_type": "code",
   "execution_count": null,
   "metadata": {},
   "outputs": [],
   "source": []
  }
 ],
 "metadata": {
  "kernelspec": {
   "display_name": "Python 3",
   "language": "python",
   "name": "python3"
  },
  "language_info": {
   "codemirror_mode": {
    "name": "ipython",
    "version": 3
   },
   "file_extension": ".py",
   "mimetype": "text/x-python",
   "name": "python",
   "nbconvert_exporter": "python",
   "pygments_lexer": "ipython3",
   "version": "3.7.4"
  }
 },
 "nbformat": 4,
 "nbformat_minor": 2
}
